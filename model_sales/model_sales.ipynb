{
  "cells": [
    {
      "cell_type": "code",
      "execution_count": 1,
      "metadata": {
        "id": "ZxHX-PuK4mcq"
      },
      "outputs": [],
      "source": [
        "import sys\n",
        "import time\n",
        "import pandas as pd\n",
        "import numpy as np\n",
        "from tqdm import tqdm\n",
        "import datetime\n",
        "from sklearn.decomposition import PCA\n",
        "from sklearn.preprocessing import StandardScaler\n",
        "from sklearn.model_selection import train_test_split\n",
        "from sklearn import metrics\n",
        "from sklearn.linear_model import LinearRegression\n",
        "from sklearn.metrics import recall_score, precision_score, f1_score, accuracy_score\n",
        "from xgboost import XGBRegressor\n",
        "import joblib\n",
        "\n",
        "import warnings\n",
        "warnings.filterwarnings(\"ignore\")"
      ]
    },
    {
      "cell_type": "code",
      "execution_count": 6,
      "metadata": {
        "id": "altYgPH24reF"
      },
      "outputs": [],
      "source": [
        "predict_sales = pd.read_csv('../data/train_sales.csv')\n",
        "predict_sales.drop_duplicates(inplace=True)"
      ]
    },
    {
      "cell_type": "code",
      "execution_count": 7,
      "metadata": {
        "id": "qSVen7d04vZb"
      },
      "outputs": [],
      "source": [
        "final_id = predict_sales[['uuid','channel','sales_period_']]"
      ]
    },
    {
      "cell_type": "code",
      "execution_count": null,
      "metadata": {
        "id": "bFgGR16K5BwZ"
      },
      "outputs": [],
      "source": []
    },
    {
      "cell_type": "markdown",
      "metadata": {
        "id": "uGbpHsa75Cfd"
      },
      "source": [
        "# 特征 only channel & sales_period_"
      ]
    },
    {
      "cell_type": "code",
      "execution_count": 8,
      "metadata": {
        "id": "mCPPXOB45H6H"
      },
      "outputs": [],
      "source": [
        "## 渠道\n",
        "def channel(df_in):\n",
        "    df = df_in.copy()\n",
        "    df = pd.concat([df, pd.get_dummies(df['channel'], prefix='channel')], axis=1)\n",
        "    df_out = df.drop(['channel'],axis=1)\n",
        "    return df_out"
      ]
    },
    {
      "cell_type": "code",
      "execution_count": 9,
      "metadata": {
        "colab": {
          "base_uri": "https://localhost:8080/"
        },
        "id": "Fuu_7dmw5Ksf",
        "outputId": "a3198dd4-d69d-4f55-b36a-721590941575"
      },
      "outputs": [
        {
          "name": "stdout",
          "output_type": "stream",
          "text": [
            "Start processing...\n",
            "channel\n",
            "processing finish!\n"
          ]
        }
      ],
      "source": [
        "df_proc = predict_sales.copy()\n",
        "print('Start processing...')\n",
        "print('channel')\n",
        "df_proc = channel(df_proc)\n",
        "print('processing finish!')"
      ]
    },
    {
      "cell_type": "code",
      "execution_count": 10,
      "metadata": {
        "colab": {
          "base_uri": "https://localhost:8080/",
          "height": 424
        },
        "id": "Mr3p_zZS5MzR",
        "outputId": "655d2dec-9a80-4496-9bcc-90dc6042a36a"
      },
      "outputs": [
        {
          "data": {
            "text/html": [
              "\n",
              "  <div id=\"df-5d150f09-6448-4c2b-a389-e2379b0cff37\">\n",
              "    <div class=\"colab-df-container\">\n",
              "      <div>\n",
              "<style scoped>\n",
              "    .dataframe tbody tr th:only-of-type {\n",
              "        vertical-align: middle;\n",
              "    }\n",
              "\n",
              "    .dataframe tbody tr th {\n",
              "        vertical-align: top;\n",
              "    }\n",
              "\n",
              "    .dataframe thead th {\n",
              "        text-align: right;\n",
              "    }\n",
              "</style>\n",
              "<table border=\"1\" class=\"dataframe\">\n",
              "  <thead>\n",
              "    <tr style=\"text-align: right;\">\n",
              "      <th></th>\n",
              "      <th>uuid</th>\n",
              "      <th>sales_period_</th>\n",
              "      <th>sales_value</th>\n",
              "      <th>channel_EC</th>\n",
              "      <th>channel_RT</th>\n",
              "    </tr>\n",
              "  </thead>\n",
              "  <tbody>\n",
              "    <tr>\n",
              "      <th>0</th>\n",
              "      <td>112777</td>\n",
              "      <td>6</td>\n",
              "      <td>8.201381</td>\n",
              "      <td>1</td>\n",
              "      <td>0</td>\n",
              "    </tr>\n",
              "    <tr>\n",
              "      <th>1</th>\n",
              "      <td>112777</td>\n",
              "      <td>6</td>\n",
              "      <td>5.497663</td>\n",
              "      <td>0</td>\n",
              "      <td>1</td>\n",
              "    </tr>\n",
              "    <tr>\n",
              "      <th>2</th>\n",
              "      <td>157886</td>\n",
              "      <td>6</td>\n",
              "      <td>8.775864</td>\n",
              "      <td>1</td>\n",
              "      <td>0</td>\n",
              "    </tr>\n",
              "    <tr>\n",
              "      <th>3</th>\n",
              "      <td>157886</td>\n",
              "      <td>6</td>\n",
              "      <td>7.876226</td>\n",
              "      <td>0</td>\n",
              "      <td>1</td>\n",
              "    </tr>\n",
              "    <tr>\n",
              "      <th>4</th>\n",
              "      <td>162194</td>\n",
              "      <td>6</td>\n",
              "      <td>10.007262</td>\n",
              "      <td>1</td>\n",
              "      <td>0</td>\n",
              "    </tr>\n",
              "    <tr>\n",
              "      <th>...</th>\n",
              "      <td>...</td>\n",
              "      <td>...</td>\n",
              "      <td>...</td>\n",
              "      <td>...</td>\n",
              "      <td>...</td>\n",
              "    </tr>\n",
              "    <tr>\n",
              "      <th>157</th>\n",
              "      <td>962209</td>\n",
              "      <td>12</td>\n",
              "      <td>10.235670</td>\n",
              "      <td>1</td>\n",
              "      <td>0</td>\n",
              "    </tr>\n",
              "    <tr>\n",
              "      <th>158</th>\n",
              "      <td>962209</td>\n",
              "      <td>12</td>\n",
              "      <td>10.067857</td>\n",
              "      <td>0</td>\n",
              "      <td>1</td>\n",
              "    </tr>\n",
              "    <tr>\n",
              "      <th>159</th>\n",
              "      <td>982584</td>\n",
              "      <td>12</td>\n",
              "      <td>9.870377</td>\n",
              "      <td>1</td>\n",
              "      <td>0</td>\n",
              "    </tr>\n",
              "    <tr>\n",
              "      <th>160</th>\n",
              "      <td>982584</td>\n",
              "      <td>12</td>\n",
              "      <td>9.844962</td>\n",
              "      <td>0</td>\n",
              "      <td>1</td>\n",
              "    </tr>\n",
              "    <tr>\n",
              "      <th>161</th>\n",
              "      <td>994949</td>\n",
              "      <td>12</td>\n",
              "      <td>10.111328</td>\n",
              "      <td>0</td>\n",
              "      <td>1</td>\n",
              "    </tr>\n",
              "  </tbody>\n",
              "</table>\n",
              "<p>162 rows × 5 columns</p>\n",
              "</div>\n",
              "      <button class=\"colab-df-convert\" onclick=\"convertToInteractive('df-5d150f09-6448-4c2b-a389-e2379b0cff37')\"\n",
              "              title=\"Convert this dataframe to an interactive table.\"\n",
              "              style=\"display:none;\">\n",
              "        \n",
              "  <svg xmlns=\"http://www.w3.org/2000/svg\" height=\"24px\"viewBox=\"0 0 24 24\"\n",
              "       width=\"24px\">\n",
              "    <path d=\"M0 0h24v24H0V0z\" fill=\"none\"/>\n",
              "    <path d=\"M18.56 5.44l.94 2.06.94-2.06 2.06-.94-2.06-.94-.94-2.06-.94 2.06-2.06.94zm-11 1L8.5 8.5l.94-2.06 2.06-.94-2.06-.94L8.5 2.5l-.94 2.06-2.06.94zm10 10l.94 2.06.94-2.06 2.06-.94-2.06-.94-.94-2.06-.94 2.06-2.06.94z\"/><path d=\"M17.41 7.96l-1.37-1.37c-.4-.4-.92-.59-1.43-.59-.52 0-1.04.2-1.43.59L10.3 9.45l-7.72 7.72c-.78.78-.78 2.05 0 2.83L4 21.41c.39.39.9.59 1.41.59.51 0 1.02-.2 1.41-.59l7.78-7.78 2.81-2.81c.8-.78.8-2.07 0-2.86zM5.41 20L4 18.59l7.72-7.72 1.47 1.35L5.41 20z\"/>\n",
              "  </svg>\n",
              "      </button>\n",
              "      \n",
              "  <style>\n",
              "    .colab-df-container {\n",
              "      display:flex;\n",
              "      flex-wrap:wrap;\n",
              "      gap: 12px;\n",
              "    }\n",
              "\n",
              "    .colab-df-convert {\n",
              "      background-color: #E8F0FE;\n",
              "      border: none;\n",
              "      border-radius: 50%;\n",
              "      cursor: pointer;\n",
              "      display: none;\n",
              "      fill: #1967D2;\n",
              "      height: 32px;\n",
              "      padding: 0 0 0 0;\n",
              "      width: 32px;\n",
              "    }\n",
              "\n",
              "    .colab-df-convert:hover {\n",
              "      background-color: #E2EBFA;\n",
              "      box-shadow: 0px 1px 2px rgba(60, 64, 67, 0.3), 0px 1px 3px 1px rgba(60, 64, 67, 0.15);\n",
              "      fill: #174EA6;\n",
              "    }\n",
              "\n",
              "    [theme=dark] .colab-df-convert {\n",
              "      background-color: #3B4455;\n",
              "      fill: #D2E3FC;\n",
              "    }\n",
              "\n",
              "    [theme=dark] .colab-df-convert:hover {\n",
              "      background-color: #434B5C;\n",
              "      box-shadow: 0px 1px 3px 1px rgba(0, 0, 0, 0.15);\n",
              "      filter: drop-shadow(0px 1px 2px rgba(0, 0, 0, 0.3));\n",
              "      fill: #FFFFFF;\n",
              "    }\n",
              "  </style>\n",
              "\n",
              "      <script>\n",
              "        const buttonEl =\n",
              "          document.querySelector('#df-5d150f09-6448-4c2b-a389-e2379b0cff37 button.colab-df-convert');\n",
              "        buttonEl.style.display =\n",
              "          google.colab.kernel.accessAllowed ? 'block' : 'none';\n",
              "\n",
              "        async function convertToInteractive(key) {\n",
              "          const element = document.querySelector('#df-5d150f09-6448-4c2b-a389-e2379b0cff37');\n",
              "          const dataTable =\n",
              "            await google.colab.kernel.invokeFunction('convertToInteractive',\n",
              "                                                     [key], {});\n",
              "          if (!dataTable) return;\n",
              "\n",
              "          const docLinkHtml = 'Like what you see? Visit the ' +\n",
              "            '<a target=\"_blank\" href=https://colab.research.google.com/notebooks/data_table.ipynb>data table notebook</a>'\n",
              "            + ' to learn more about interactive tables.';\n",
              "          element.innerHTML = '';\n",
              "          dataTable['output_type'] = 'display_data';\n",
              "          await google.colab.output.renderOutput(dataTable, element);\n",
              "          const docLink = document.createElement('div');\n",
              "          docLink.innerHTML = docLinkHtml;\n",
              "          element.appendChild(docLink);\n",
              "        }\n",
              "      </script>\n",
              "    </div>\n",
              "  </div>\n",
              "  "
            ],
            "text/plain": [
              "       uuid  sales_period_  sales_value  channel_EC  channel_RT\n",
              "0    112777              6     8.201381           1           0\n",
              "1    112777              6     5.497663           0           1\n",
              "2    157886              6     8.775864           1           0\n",
              "3    157886              6     7.876226           0           1\n",
              "4    162194              6    10.007262           1           0\n",
              "..      ...            ...          ...         ...         ...\n",
              "157  962209             12    10.235670           1           0\n",
              "158  962209             12    10.067857           0           1\n",
              "159  982584             12     9.870377           1           0\n",
              "160  982584             12     9.844962           0           1\n",
              "161  994949             12    10.111328           0           1\n",
              "\n",
              "[162 rows x 5 columns]"
            ]
          },
          "execution_count": 10,
          "metadata": {},
          "output_type": "execute_result"
        }
      ],
      "source": [
        "df_proc"
      ]
    },
    {
      "cell_type": "code",
      "execution_count": null,
      "metadata": {
        "id": "LxFA20Eo5Oge"
      },
      "outputs": [],
      "source": []
    },
    {
      "cell_type": "markdown",
      "metadata": {
        "id": "hS-T9CHC5PSd"
      },
      "source": [
        "# normalization"
      ]
    },
    {
      "cell_type": "code",
      "execution_count": 11,
      "metadata": {
        "id": "vc4CENPa5TnA"
      },
      "outputs": [],
      "source": [
        "df_nor = df_proc.copy()\n",
        "\n",
        "Y = df_nor[['uuid','sales_value']]\n",
        "X = df_nor.drop(['sales_value','uuid'],axis=1)\n",
        "\n",
        "ss = StandardScaler()\n",
        "std_data = ss.fit_transform(X)\n",
        "origin_data = ss.inverse_transform(std_data)\n",
        "\n",
        "df_std_ = pd.DataFrame(std_data)\n",
        "df_std = pd.concat([Y, df_std_], axis=1)"
      ]
    },
    {
      "cell_type": "code",
      "execution_count": 12,
      "metadata": {
        "colab": {
          "base_uri": "https://localhost:8080/",
          "height": 424
        },
        "id": "xNhnTjy95Z8X",
        "outputId": "6e31d78f-933a-40af-f234-f37a8a0a77e0"
      },
      "outputs": [
        {
          "data": {
            "text/html": [
              "\n",
              "  <div id=\"df-ff08e464-9cb0-4165-8a96-50b10630106c\">\n",
              "    <div class=\"colab-df-container\">\n",
              "      <div>\n",
              "<style scoped>\n",
              "    .dataframe tbody tr th:only-of-type {\n",
              "        vertical-align: middle;\n",
              "    }\n",
              "\n",
              "    .dataframe tbody tr th {\n",
              "        vertical-align: top;\n",
              "    }\n",
              "\n",
              "    .dataframe thead th {\n",
              "        text-align: right;\n",
              "    }\n",
              "</style>\n",
              "<table border=\"1\" class=\"dataframe\">\n",
              "  <thead>\n",
              "    <tr style=\"text-align: right;\">\n",
              "      <th></th>\n",
              "      <th>uuid</th>\n",
              "      <th>sales_value</th>\n",
              "      <th>0</th>\n",
              "      <th>1</th>\n",
              "      <th>2</th>\n",
              "    </tr>\n",
              "  </thead>\n",
              "  <tbody>\n",
              "    <tr>\n",
              "      <th>0</th>\n",
              "      <td>112777</td>\n",
              "      <td>8.201381</td>\n",
              "      <td>-1.0</td>\n",
              "      <td>1.206045</td>\n",
              "      <td>-1.206045</td>\n",
              "    </tr>\n",
              "    <tr>\n",
              "      <th>1</th>\n",
              "      <td>112777</td>\n",
              "      <td>5.497663</td>\n",
              "      <td>-1.0</td>\n",
              "      <td>-0.829156</td>\n",
              "      <td>0.829156</td>\n",
              "    </tr>\n",
              "    <tr>\n",
              "      <th>2</th>\n",
              "      <td>157886</td>\n",
              "      <td>8.775864</td>\n",
              "      <td>-1.0</td>\n",
              "      <td>1.206045</td>\n",
              "      <td>-1.206045</td>\n",
              "    </tr>\n",
              "    <tr>\n",
              "      <th>3</th>\n",
              "      <td>157886</td>\n",
              "      <td>7.876226</td>\n",
              "      <td>-1.0</td>\n",
              "      <td>-0.829156</td>\n",
              "      <td>0.829156</td>\n",
              "    </tr>\n",
              "    <tr>\n",
              "      <th>4</th>\n",
              "      <td>162194</td>\n",
              "      <td>10.007262</td>\n",
              "      <td>-1.0</td>\n",
              "      <td>1.206045</td>\n",
              "      <td>-1.206045</td>\n",
              "    </tr>\n",
              "    <tr>\n",
              "      <th>...</th>\n",
              "      <td>...</td>\n",
              "      <td>...</td>\n",
              "      <td>...</td>\n",
              "      <td>...</td>\n",
              "      <td>...</td>\n",
              "    </tr>\n",
              "    <tr>\n",
              "      <th>157</th>\n",
              "      <td>962209</td>\n",
              "      <td>10.235670</td>\n",
              "      <td>1.0</td>\n",
              "      <td>1.206045</td>\n",
              "      <td>-1.206045</td>\n",
              "    </tr>\n",
              "    <tr>\n",
              "      <th>158</th>\n",
              "      <td>962209</td>\n",
              "      <td>10.067857</td>\n",
              "      <td>1.0</td>\n",
              "      <td>-0.829156</td>\n",
              "      <td>0.829156</td>\n",
              "    </tr>\n",
              "    <tr>\n",
              "      <th>159</th>\n",
              "      <td>982584</td>\n",
              "      <td>9.870377</td>\n",
              "      <td>1.0</td>\n",
              "      <td>1.206045</td>\n",
              "      <td>-1.206045</td>\n",
              "    </tr>\n",
              "    <tr>\n",
              "      <th>160</th>\n",
              "      <td>982584</td>\n",
              "      <td>9.844962</td>\n",
              "      <td>1.0</td>\n",
              "      <td>-0.829156</td>\n",
              "      <td>0.829156</td>\n",
              "    </tr>\n",
              "    <tr>\n",
              "      <th>161</th>\n",
              "      <td>994949</td>\n",
              "      <td>10.111328</td>\n",
              "      <td>1.0</td>\n",
              "      <td>-0.829156</td>\n",
              "      <td>0.829156</td>\n",
              "    </tr>\n",
              "  </tbody>\n",
              "</table>\n",
              "<p>162 rows × 5 columns</p>\n",
              "</div>\n",
              "      <button class=\"colab-df-convert\" onclick=\"convertToInteractive('df-ff08e464-9cb0-4165-8a96-50b10630106c')\"\n",
              "              title=\"Convert this dataframe to an interactive table.\"\n",
              "              style=\"display:none;\">\n",
              "        \n",
              "  <svg xmlns=\"http://www.w3.org/2000/svg\" height=\"24px\"viewBox=\"0 0 24 24\"\n",
              "       width=\"24px\">\n",
              "    <path d=\"M0 0h24v24H0V0z\" fill=\"none\"/>\n",
              "    <path d=\"M18.56 5.44l.94 2.06.94-2.06 2.06-.94-2.06-.94-.94-2.06-.94 2.06-2.06.94zm-11 1L8.5 8.5l.94-2.06 2.06-.94-2.06-.94L8.5 2.5l-.94 2.06-2.06.94zm10 10l.94 2.06.94-2.06 2.06-.94-2.06-.94-.94-2.06-.94 2.06-2.06.94z\"/><path d=\"M17.41 7.96l-1.37-1.37c-.4-.4-.92-.59-1.43-.59-.52 0-1.04.2-1.43.59L10.3 9.45l-7.72 7.72c-.78.78-.78 2.05 0 2.83L4 21.41c.39.39.9.59 1.41.59.51 0 1.02-.2 1.41-.59l7.78-7.78 2.81-2.81c.8-.78.8-2.07 0-2.86zM5.41 20L4 18.59l7.72-7.72 1.47 1.35L5.41 20z\"/>\n",
              "  </svg>\n",
              "      </button>\n",
              "      \n",
              "  <style>\n",
              "    .colab-df-container {\n",
              "      display:flex;\n",
              "      flex-wrap:wrap;\n",
              "      gap: 12px;\n",
              "    }\n",
              "\n",
              "    .colab-df-convert {\n",
              "      background-color: #E8F0FE;\n",
              "      border: none;\n",
              "      border-radius: 50%;\n",
              "      cursor: pointer;\n",
              "      display: none;\n",
              "      fill: #1967D2;\n",
              "      height: 32px;\n",
              "      padding: 0 0 0 0;\n",
              "      width: 32px;\n",
              "    }\n",
              "\n",
              "    .colab-df-convert:hover {\n",
              "      background-color: #E2EBFA;\n",
              "      box-shadow: 0px 1px 2px rgba(60, 64, 67, 0.3), 0px 1px 3px 1px rgba(60, 64, 67, 0.15);\n",
              "      fill: #174EA6;\n",
              "    }\n",
              "\n",
              "    [theme=dark] .colab-df-convert {\n",
              "      background-color: #3B4455;\n",
              "      fill: #D2E3FC;\n",
              "    }\n",
              "\n",
              "    [theme=dark] .colab-df-convert:hover {\n",
              "      background-color: #434B5C;\n",
              "      box-shadow: 0px 1px 3px 1px rgba(0, 0, 0, 0.15);\n",
              "      filter: drop-shadow(0px 1px 2px rgba(0, 0, 0, 0.3));\n",
              "      fill: #FFFFFF;\n",
              "    }\n",
              "  </style>\n",
              "\n",
              "      <script>\n",
              "        const buttonEl =\n",
              "          document.querySelector('#df-ff08e464-9cb0-4165-8a96-50b10630106c button.colab-df-convert');\n",
              "        buttonEl.style.display =\n",
              "          google.colab.kernel.accessAllowed ? 'block' : 'none';\n",
              "\n",
              "        async function convertToInteractive(key) {\n",
              "          const element = document.querySelector('#df-ff08e464-9cb0-4165-8a96-50b10630106c');\n",
              "          const dataTable =\n",
              "            await google.colab.kernel.invokeFunction('convertToInteractive',\n",
              "                                                     [key], {});\n",
              "          if (!dataTable) return;\n",
              "\n",
              "          const docLinkHtml = 'Like what you see? Visit the ' +\n",
              "            '<a target=\"_blank\" href=https://colab.research.google.com/notebooks/data_table.ipynb>data table notebook</a>'\n",
              "            + ' to learn more about interactive tables.';\n",
              "          element.innerHTML = '';\n",
              "          dataTable['output_type'] = 'display_data';\n",
              "          await google.colab.output.renderOutput(dataTable, element);\n",
              "          const docLink = document.createElement('div');\n",
              "          docLink.innerHTML = docLinkHtml;\n",
              "          element.appendChild(docLink);\n",
              "        }\n",
              "      </script>\n",
              "    </div>\n",
              "  </div>\n",
              "  "
            ],
            "text/plain": [
              "       uuid  sales_value    0         1         2\n",
              "0    112777     8.201381 -1.0  1.206045 -1.206045\n",
              "1    112777     5.497663 -1.0 -0.829156  0.829156\n",
              "2    157886     8.775864 -1.0  1.206045 -1.206045\n",
              "3    157886     7.876226 -1.0 -0.829156  0.829156\n",
              "4    162194    10.007262 -1.0  1.206045 -1.206045\n",
              "..      ...          ...  ...       ...       ...\n",
              "157  962209    10.235670  1.0  1.206045 -1.206045\n",
              "158  962209    10.067857  1.0 -0.829156  0.829156\n",
              "159  982584     9.870377  1.0  1.206045 -1.206045\n",
              "160  982584     9.844962  1.0 -0.829156  0.829156\n",
              "161  994949    10.111328  1.0 -0.829156  0.829156\n",
              "\n",
              "[162 rows x 5 columns]"
            ]
          },
          "execution_count": 12,
          "metadata": {},
          "output_type": "execute_result"
        }
      ],
      "source": [
        "df_std"
      ]
    },
    {
      "cell_type": "code",
      "execution_count": null,
      "metadata": {
        "id": "5nGBCCUq5dxx"
      },
      "outputs": [],
      "source": []
    },
    {
      "cell_type": "markdown",
      "metadata": {
        "id": "bgIVIx5F5euI"
      },
      "source": [
        "# 模型训练"
      ]
    },
    {
      "cell_type": "code",
      "execution_count": 13,
      "metadata": {
        "colab": {
          "base_uri": "https://localhost:8080/"
        },
        "id": "8rjyYr1R5kLw",
        "outputId": "b8930d54-3918-48f8-eb82-ad2cf2de3754"
      },
      "outputs": [
        {
          "name": "stdout",
          "output_type": "stream",
          "text": [
            "[16:57:37] WARNING: /workspace/src/objective/regression_obj.cu:152: reg:linear is now deprecated in favor of reg:squarederror.\n"
          ]
        },
        {
          "data": {
            "text/plain": [
              "['./xgboost.pkl']"
            ]
          },
          "execution_count": 13,
          "metadata": {},
          "output_type": "execute_result"
        }
      ],
      "source": [
        "df_model = df_std.copy()\n",
        "\n",
        "x = df_model.drop(['uuid','sales_value'],axis=1)\n",
        "y = df_model['sales_value']\n",
        "\n",
        "xgb = XGBRegressor()\n",
        "model = xgb.fit(x,y)\n",
        "\n",
        "# 模型保存\n",
        "joblib.dump(model, './xgboost.pkl')"
      ]
    },
    {
      "cell_type": "code",
      "execution_count": null,
      "metadata": {
        "id": "AtBvoPEz5s_8"
      },
      "outputs": [],
      "source": []
    },
    {
      "cell_type": "markdown",
      "metadata": {
        "id": "3MIq2UiG5vnY"
      },
      "source": [
        "# 读取模型"
      ]
    },
    {
      "cell_type": "code",
      "execution_count": 14,
      "metadata": {
        "colab": {
          "base_uri": "https://localhost:8080/"
        },
        "id": "OtHGS-__5ykL",
        "outputId": "0e41e409-15ef-4b82-bb4d-11f11a99d991"
      },
      "outputs": [
        {
          "name": "stdout",
          "output_type": "stream",
          "text": [
            "[16:58:02] WARNING: /workspace/src/objective/regression_obj.cu:152: reg:linear is now deprecated in favor of reg:squarederror.\n"
          ]
        }
      ],
      "source": [
        "xgb = joblib.load('./xgboost.pkl')"
      ]
    },
    {
      "cell_type": "code",
      "execution_count": 15,
      "metadata": {
        "colab": {
          "base_uri": "https://localhost:8080/"
        },
        "id": "Jh5ZdiAq5zF7",
        "outputId": "3a6869dc-1c06-4ab9-8666-38fe9fc0929e"
      },
      "outputs": [
        {
          "name": "stdout",
          "output_type": "stream",
          "text": [
            "XGBRegressor(missing=nan)\n",
            "[9.402147 8.818059 9.402147 8.818059 9.402147 8.818059 9.402147 8.818059\n",
            " 9.402147 8.818059 8.818059 8.818059 9.402147 8.818059 8.818059 9.402147\n",
            " 8.818059 9.402147 8.818059 9.402147 8.818059 9.402147 8.818059 9.402147\n",
            " 8.818059 8.818059 9.402147 8.818059 9.402147 8.818059 9.402147 9.402147\n",
            " 8.818059 8.818059 9.402147 8.818059 9.402147 8.818059 9.402147 8.818059\n",
            " 9.402147 8.818059 9.402147 8.818059 9.402147 8.818059 8.818059 9.402147\n",
            " 8.818059 8.818059 9.402147 8.818059 9.402147 8.818059 9.402147 8.818059\n",
            " 8.818059 8.818059 8.818059 8.818059 8.818059 9.402147 8.818059 9.402147\n",
            " 8.818059 9.402147 8.818059 8.818059 9.402147 8.818059 8.818059 9.402147\n",
            " 8.818059 8.818059 9.402147 8.818059 9.402147 8.818059 9.402147 8.818059\n",
            " 8.818059 9.693809 9.12475  9.693809 9.12475  9.693809 9.12475  9.693809\n",
            " 9.12475  9.693809 9.12475  9.12475  9.12475  9.693809 9.12475  9.12475\n",
            " 9.693809 9.12475  9.693809 9.12475  9.693809 9.12475  9.693809 9.12475\n",
            " 9.693809 9.12475  9.12475  9.693809 9.12475  9.693809 9.12475  9.693809\n",
            " 9.693809 9.12475  9.12475  9.693809 9.12475  9.693809 9.12475  9.693809\n",
            " 9.12475  9.693809 9.12475  9.693809 9.12475  9.693809 9.12475  9.12475\n",
            " 9.693809 9.12475  9.12475  9.693809 9.12475  9.693809 9.12475  9.693809\n",
            " 9.12475  9.12475  9.12475  9.12475  9.12475  9.12475  9.693809 9.12475\n",
            " 9.693809 9.12475  9.693809 9.12475  9.12475  9.693809 9.12475  9.12475\n",
            " 9.693809 9.12475  9.12475  9.693809 9.12475  9.693809 9.12475  9.693809\n",
            " 9.12475  9.12475 ]\n"
          ]
        }
      ],
      "source": [
        "predict_result = xgb.predict(x)\n",
        "print(xgb)\n",
        "print(predict_result)"
      ]
    },
    {
      "cell_type": "code",
      "execution_count": null,
      "metadata": {
        "id": "apdav1T752pu"
      },
      "outputs": [],
      "source": []
    },
    {
      "cell_type": "markdown",
      "metadata": {
        "id": "9gyjslkA55ej"
      },
      "source": [
        "# 生成最终结果"
      ]
    },
    {
      "cell_type": "code",
      "execution_count": 16,
      "metadata": {
        "id": "XM3QYVcz57Ex"
      },
      "outputs": [],
      "source": [
        "final_id.insert(3,'predict_result',predict_result)\n",
        "\n",
        "df_final = pd.merge(predict_sales,final_id,on=['uuid','channel','sales_period_'],how='outer')\n",
        "df_final.drop('sales_value', axis=1, inplace=True)\n",
        "    \n",
        "df_final['predict_result'].fillna(9.206592402, inplace=True)\n",
        "    \n",
        "df_final.rename({'predict_result':'sales_value'}, axis=1, inplace=True)"
      ]
    },
    {
      "cell_type": "code",
      "execution_count": 17,
      "metadata": {
        "colab": {
          "base_uri": "https://localhost:8080/",
          "height": 638
        },
        "id": "ymBhD-E96AP1",
        "outputId": "9bab4962-7586-42d7-ea91-ec065ed75953"
      },
      "outputs": [
        {
          "name": "stdout",
          "output_type": "stream",
          "text": [
            "<class 'pandas.core.frame.DataFrame'>\n",
            "Int64Index: 162 entries, 0 to 161\n",
            "Data columns (total 4 columns):\n",
            " #   Column         Non-Null Count  Dtype  \n",
            "---  ------         --------------  -----  \n",
            " 0   uuid           162 non-null    int64  \n",
            " 1   channel        162 non-null    object \n",
            " 2   sales_period_  162 non-null    int64  \n",
            " 3   sales_value    162 non-null    float32\n",
            "dtypes: float32(1), int64(2), object(1)\n",
            "memory usage: 5.7+ KB\n",
            "None\n"
          ]
        },
        {
          "data": {
            "text/html": [
              "\n",
              "  <div id=\"df-1b918ab0-1e0e-49d2-8ed8-fb238db9482a\">\n",
              "    <div class=\"colab-df-container\">\n",
              "      <div>\n",
              "<style scoped>\n",
              "    .dataframe tbody tr th:only-of-type {\n",
              "        vertical-align: middle;\n",
              "    }\n",
              "\n",
              "    .dataframe tbody tr th {\n",
              "        vertical-align: top;\n",
              "    }\n",
              "\n",
              "    .dataframe thead th {\n",
              "        text-align: right;\n",
              "    }\n",
              "</style>\n",
              "<table border=\"1\" class=\"dataframe\">\n",
              "  <thead>\n",
              "    <tr style=\"text-align: right;\">\n",
              "      <th></th>\n",
              "      <th>uuid</th>\n",
              "      <th>channel</th>\n",
              "      <th>sales_period_</th>\n",
              "      <th>sales_value</th>\n",
              "    </tr>\n",
              "  </thead>\n",
              "  <tbody>\n",
              "    <tr>\n",
              "      <th>0</th>\n",
              "      <td>112777</td>\n",
              "      <td>EC</td>\n",
              "      <td>6</td>\n",
              "      <td>9.402147</td>\n",
              "    </tr>\n",
              "    <tr>\n",
              "      <th>1</th>\n",
              "      <td>112777</td>\n",
              "      <td>RT</td>\n",
              "      <td>6</td>\n",
              "      <td>8.818059</td>\n",
              "    </tr>\n",
              "    <tr>\n",
              "      <th>2</th>\n",
              "      <td>157886</td>\n",
              "      <td>EC</td>\n",
              "      <td>6</td>\n",
              "      <td>9.402147</td>\n",
              "    </tr>\n",
              "    <tr>\n",
              "      <th>3</th>\n",
              "      <td>157886</td>\n",
              "      <td>RT</td>\n",
              "      <td>6</td>\n",
              "      <td>8.818059</td>\n",
              "    </tr>\n",
              "    <tr>\n",
              "      <th>4</th>\n",
              "      <td>162194</td>\n",
              "      <td>EC</td>\n",
              "      <td>6</td>\n",
              "      <td>9.402147</td>\n",
              "    </tr>\n",
              "    <tr>\n",
              "      <th>...</th>\n",
              "      <td>...</td>\n",
              "      <td>...</td>\n",
              "      <td>...</td>\n",
              "      <td>...</td>\n",
              "    </tr>\n",
              "    <tr>\n",
              "      <th>157</th>\n",
              "      <td>962209</td>\n",
              "      <td>EC</td>\n",
              "      <td>12</td>\n",
              "      <td>9.693809</td>\n",
              "    </tr>\n",
              "    <tr>\n",
              "      <th>158</th>\n",
              "      <td>962209</td>\n",
              "      <td>RT</td>\n",
              "      <td>12</td>\n",
              "      <td>9.124750</td>\n",
              "    </tr>\n",
              "    <tr>\n",
              "      <th>159</th>\n",
              "      <td>982584</td>\n",
              "      <td>EC</td>\n",
              "      <td>12</td>\n",
              "      <td>9.693809</td>\n",
              "    </tr>\n",
              "    <tr>\n",
              "      <th>160</th>\n",
              "      <td>982584</td>\n",
              "      <td>RT</td>\n",
              "      <td>12</td>\n",
              "      <td>9.124750</td>\n",
              "    </tr>\n",
              "    <tr>\n",
              "      <th>161</th>\n",
              "      <td>994949</td>\n",
              "      <td>RT</td>\n",
              "      <td>12</td>\n",
              "      <td>9.124750</td>\n",
              "    </tr>\n",
              "  </tbody>\n",
              "</table>\n",
              "<p>162 rows × 4 columns</p>\n",
              "</div>\n",
              "      <button class=\"colab-df-convert\" onclick=\"convertToInteractive('df-1b918ab0-1e0e-49d2-8ed8-fb238db9482a')\"\n",
              "              title=\"Convert this dataframe to an interactive table.\"\n",
              "              style=\"display:none;\">\n",
              "        \n",
              "  <svg xmlns=\"http://www.w3.org/2000/svg\" height=\"24px\"viewBox=\"0 0 24 24\"\n",
              "       width=\"24px\">\n",
              "    <path d=\"M0 0h24v24H0V0z\" fill=\"none\"/>\n",
              "    <path d=\"M18.56 5.44l.94 2.06.94-2.06 2.06-.94-2.06-.94-.94-2.06-.94 2.06-2.06.94zm-11 1L8.5 8.5l.94-2.06 2.06-.94-2.06-.94L8.5 2.5l-.94 2.06-2.06.94zm10 10l.94 2.06.94-2.06 2.06-.94-2.06-.94-.94-2.06-.94 2.06-2.06.94z\"/><path d=\"M17.41 7.96l-1.37-1.37c-.4-.4-.92-.59-1.43-.59-.52 0-1.04.2-1.43.59L10.3 9.45l-7.72 7.72c-.78.78-.78 2.05 0 2.83L4 21.41c.39.39.9.59 1.41.59.51 0 1.02-.2 1.41-.59l7.78-7.78 2.81-2.81c.8-.78.8-2.07 0-2.86zM5.41 20L4 18.59l7.72-7.72 1.47 1.35L5.41 20z\"/>\n",
              "  </svg>\n",
              "      </button>\n",
              "      \n",
              "  <style>\n",
              "    .colab-df-container {\n",
              "      display:flex;\n",
              "      flex-wrap:wrap;\n",
              "      gap: 12px;\n",
              "    }\n",
              "\n",
              "    .colab-df-convert {\n",
              "      background-color: #E8F0FE;\n",
              "      border: none;\n",
              "      border-radius: 50%;\n",
              "      cursor: pointer;\n",
              "      display: none;\n",
              "      fill: #1967D2;\n",
              "      height: 32px;\n",
              "      padding: 0 0 0 0;\n",
              "      width: 32px;\n",
              "    }\n",
              "\n",
              "    .colab-df-convert:hover {\n",
              "      background-color: #E2EBFA;\n",
              "      box-shadow: 0px 1px 2px rgba(60, 64, 67, 0.3), 0px 1px 3px 1px rgba(60, 64, 67, 0.15);\n",
              "      fill: #174EA6;\n",
              "    }\n",
              "\n",
              "    [theme=dark] .colab-df-convert {\n",
              "      background-color: #3B4455;\n",
              "      fill: #D2E3FC;\n",
              "    }\n",
              "\n",
              "    [theme=dark] .colab-df-convert:hover {\n",
              "      background-color: #434B5C;\n",
              "      box-shadow: 0px 1px 3px 1px rgba(0, 0, 0, 0.15);\n",
              "      filter: drop-shadow(0px 1px 2px rgba(0, 0, 0, 0.3));\n",
              "      fill: #FFFFFF;\n",
              "    }\n",
              "  </style>\n",
              "\n",
              "      <script>\n",
              "        const buttonEl =\n",
              "          document.querySelector('#df-1b918ab0-1e0e-49d2-8ed8-fb238db9482a button.colab-df-convert');\n",
              "        buttonEl.style.display =\n",
              "          google.colab.kernel.accessAllowed ? 'block' : 'none';\n",
              "\n",
              "        async function convertToInteractive(key) {\n",
              "          const element = document.querySelector('#df-1b918ab0-1e0e-49d2-8ed8-fb238db9482a');\n",
              "          const dataTable =\n",
              "            await google.colab.kernel.invokeFunction('convertToInteractive',\n",
              "                                                     [key], {});\n",
              "          if (!dataTable) return;\n",
              "\n",
              "          const docLinkHtml = 'Like what you see? Visit the ' +\n",
              "            '<a target=\"_blank\" href=https://colab.research.google.com/notebooks/data_table.ipynb>data table notebook</a>'\n",
              "            + ' to learn more about interactive tables.';\n",
              "          element.innerHTML = '';\n",
              "          dataTable['output_type'] = 'display_data';\n",
              "          await google.colab.output.renderOutput(dataTable, element);\n",
              "          const docLink = document.createElement('div');\n",
              "          docLink.innerHTML = docLinkHtml;\n",
              "          element.appendChild(docLink);\n",
              "        }\n",
              "      </script>\n",
              "    </div>\n",
              "  </div>\n",
              "  "
            ],
            "text/plain": [
              "       uuid channel  sales_period_  sales_value\n",
              "0    112777      EC              6     9.402147\n",
              "1    112777      RT              6     8.818059\n",
              "2    157886      EC              6     9.402147\n",
              "3    157886      RT              6     8.818059\n",
              "4    162194      EC              6     9.402147\n",
              "..      ...     ...            ...          ...\n",
              "157  962209      EC             12     9.693809\n",
              "158  962209      RT             12     9.124750\n",
              "159  982584      EC             12     9.693809\n",
              "160  982584      RT             12     9.124750\n",
              "161  994949      RT             12     9.124750\n",
              "\n",
              "[162 rows x 4 columns]"
            ]
          },
          "execution_count": 17,
          "metadata": {},
          "output_type": "execute_result"
        }
      ],
      "source": [
        "print(df_final.info())\n",
        "df_final"
      ]
    },
    {
      "cell_type": "code",
      "execution_count": null,
      "metadata": {
        "id": "uXEYxa8D6C5U"
      },
      "outputs": [],
      "source": []
    }
  ],
  "metadata": {
    "colab": {
      "name": "model_sales.ipynb",
      "provenance": []
    },
    "kernelspec": {
      "display_name": "Python 3",
      "name": "python3"
    },
    "language_info": {
      "name": "python"
    }
  },
  "nbformat": 4,
  "nbformat_minor": 0
}
