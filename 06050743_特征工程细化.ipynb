{
 "cells": [
  {
   "cell_type": "code",
   "execution_count": 1,
   "id": "b6bff878",
   "metadata": {},
   "outputs": [],
   "source": [
    "import sys\n",
    "import time\n",
    "import pandas as pd\n",
    "import numpy as np\n",
    "from tqdm import tqdm\n",
    "import datetime\n",
    "import joblib\n",
    "import lightgbm as lgb\n",
    "from sklearn.decomposition import PCA\n",
    "from sklearn.preprocessing import StandardScaler\n",
    "from sklearn.model_selection import train_test_split\n",
    "from sklearn import metrics\n",
    "from sklearn.linear_model import LinearRegression\n",
    "from sklearn.metrics import recall_score, precision_score, f1_score, accuracy_score\n",
    "from xgboost import XGBRegressor\n",
    "\n",
    "import warnings\n",
    "warnings.filterwarnings(\"ignore\")"
   ]
  },
  {
   "cell_type": "code",
   "execution_count": 2,
   "id": "05d63b7c",
   "metadata": {},
   "outputs": [],
   "source": [
    "predict_product_info = pd.read_csv('train_info.csv')\n",
    "predict_sales = pd.read_csv('train_sales.csv')\n",
    "\n",
    "predict_product_info.drop(['material_name','category', 'bar_code'], axis = 1, inplace=True)\n",
    "\n",
    "predict_product_info.drop_duplicates(inplace=True)\n",
    "predict_sales.drop_duplicates(inplace=True)\n",
    "\n",
    "# predict_product_info.fillna(-1, inplace=True)\n",
    "# predict_sales.fillna(-1, inplace=True)\n",
    "\n",
    "# 处理info的重复uuid的问题\n",
    "ndf = pd.DataFrame(columns = predict_product_info.columns) #根据df的列名建一个空表ndf\n",
    "uuids = set(predict_product_info['uuid'])\n",
    "for u in uuids:\n",
    "    one = predict_product_info.loc[predict_product_info['uuid'] == u] #获取所有uuid等于u的行，之后只会保存一行\n",
    "    #在这里写if然后只保留一行，然后concat到ndf上，实现只保留一行\n",
    "    olst = list(one['ingredient']) #或者用set\n",
    "    zero = one.iloc[[0]] #iloc[行号]是series iloc[[行号]]是dataframe\n",
    "    #zero['name']=str(olst)\n",
    "    if len(olst) > 1: #等于1的就不用改了\n",
    "        zero['ingredient'] = str(olst).replace('\"[','').replace(']\"','') #or =''.join(olst)\n",
    "    ndf = pd.concat([ndf,zero]) #把选出来的zero加到ndf里"
   ]
  },
  {
   "cell_type": "code",
   "execution_count": 3,
   "id": "8a757346",
   "metadata": {},
   "outputs": [],
   "source": [
    "df_comb = predict_sales.merge(ndf, on='uuid')"
   ]
  },
  {
   "cell_type": "code",
   "execution_count": 4,
   "id": "9b18eeeb",
   "metadata": {},
   "outputs": [
    {
     "name": "stdout",
     "output_type": "stream",
     "text": [
      "(150, 10)\n"
     ]
    },
    {
     "data": {
      "text/html": [
       "<div>\n",
       "<style scoped>\n",
       "    .dataframe tbody tr th:only-of-type {\n",
       "        vertical-align: middle;\n",
       "    }\n",
       "\n",
       "    .dataframe tbody tr th {\n",
       "        vertical-align: top;\n",
       "    }\n",
       "\n",
       "    .dataframe thead th {\n",
       "        text-align: right;\n",
       "    }\n",
       "</style>\n",
       "<table border=\"1\" class=\"dataframe\">\n",
       "  <thead>\n",
       "    <tr style=\"text-align: right;\">\n",
       "      <th></th>\n",
       "      <th>Unnamed: 0_x</th>\n",
       "      <th>uuid</th>\n",
       "      <th>channel</th>\n",
       "      <th>sales_period_</th>\n",
       "      <th>sales_value</th>\n",
       "      <th>Unnamed: 0_y</th>\n",
       "      <th>brand</th>\n",
       "      <th>material_name_zh</th>\n",
       "      <th>launch_date</th>\n",
       "      <th>ingredient</th>\n",
       "    </tr>\n",
       "  </thead>\n",
       "  <tbody>\n",
       "    <tr>\n",
       "      <th>0</th>\n",
       "      <td>0</td>\n",
       "      <td>112777</td>\n",
       "      <td>EC</td>\n",
       "      <td>6</td>\n",
       "      <td>8.201381</td>\n",
       "      <td>28</td>\n",
       "      <td>POND'S</td>\n",
       "      <td>旁氏男士净效控油洁面乳 12X150G</td>\n",
       "      <td>2020-08-06</td>\n",
       "      <td>['肉豆蔻酸', '甘油', '水', '丙二醇', '氢氧化钾', '棕榈酸', '乙二醇...</td>\n",
       "    </tr>\n",
       "    <tr>\n",
       "      <th>1</th>\n",
       "      <td>1</td>\n",
       "      <td>112777</td>\n",
       "      <td>RT</td>\n",
       "      <td>6</td>\n",
       "      <td>5.497663</td>\n",
       "      <td>28</td>\n",
       "      <td>POND'S</td>\n",
       "      <td>旁氏男士净效控油洁面乳 12X150G</td>\n",
       "      <td>2020-08-06</td>\n",
       "      <td>['肉豆蔻酸', '甘油', '水', '丙二醇', '氢氧化钾', '棕榈酸', '乙二醇...</td>\n",
       "    </tr>\n",
       "    <tr>\n",
       "      <th>2</th>\n",
       "      <td>81</td>\n",
       "      <td>112777</td>\n",
       "      <td>EC</td>\n",
       "      <td>12</td>\n",
       "      <td>8.525868</td>\n",
       "      <td>28</td>\n",
       "      <td>POND'S</td>\n",
       "      <td>旁氏男士净效控油洁面乳 12X150G</td>\n",
       "      <td>2020-08-06</td>\n",
       "      <td>['肉豆蔻酸', '甘油', '水', '丙二醇', '氢氧化钾', '棕榈酸', '乙二醇...</td>\n",
       "    </tr>\n",
       "    <tr>\n",
       "      <th>3</th>\n",
       "      <td>82</td>\n",
       "      <td>112777</td>\n",
       "      <td>RT</td>\n",
       "      <td>12</td>\n",
       "      <td>5.531329</td>\n",
       "      <td>28</td>\n",
       "      <td>POND'S</td>\n",
       "      <td>旁氏男士净效控油洁面乳 12X150G</td>\n",
       "      <td>2020-08-06</td>\n",
       "      <td>['肉豆蔻酸', '甘油', '水', '丙二醇', '氢氧化钾', '棕榈酸', '乙二醇...</td>\n",
       "    </tr>\n",
       "    <tr>\n",
       "      <th>4</th>\n",
       "      <td>2</td>\n",
       "      <td>157886</td>\n",
       "      <td>EC</td>\n",
       "      <td>6</td>\n",
       "      <td>8.775864</td>\n",
       "      <td>14</td>\n",
       "      <td>DOVE</td>\n",
       "      <td>多芬滋养透亮护手霜 24X 40ML</td>\n",
       "      <td>2020-08-27</td>\n",
       "      <td>['水', '甘油', '聚二甲基硅氧烷', '辛酸/癸酸甘油三酯', '棕榈酸', '乙二...</td>\n",
       "    </tr>\n",
       "  </tbody>\n",
       "</table>\n",
       "</div>"
      ],
      "text/plain": [
       "   Unnamed: 0_x    uuid channel  sales_period_  sales_value Unnamed: 0_y  \\\n",
       "0             0  112777      EC              6     8.201381           28   \n",
       "1             1  112777      RT              6     5.497663           28   \n",
       "2            81  112777      EC             12     8.525868           28   \n",
       "3            82  112777      RT             12     5.531329           28   \n",
       "4             2  157886      EC              6     8.775864           14   \n",
       "\n",
       "    brand     material_name_zh launch_date  \\\n",
       "0  POND'S  旁氏男士净效控油洁面乳 12X150G  2020-08-06   \n",
       "1  POND'S  旁氏男士净效控油洁面乳 12X150G  2020-08-06   \n",
       "2  POND'S  旁氏男士净效控油洁面乳 12X150G  2020-08-06   \n",
       "3  POND'S  旁氏男士净效控油洁面乳 12X150G  2020-08-06   \n",
       "4    DOVE   多芬滋养透亮护手霜 24X 40ML  2020-08-27   \n",
       "\n",
       "                                          ingredient  \n",
       "0  ['肉豆蔻酸', '甘油', '水', '丙二醇', '氢氧化钾', '棕榈酸', '乙二醇...  \n",
       "1  ['肉豆蔻酸', '甘油', '水', '丙二醇', '氢氧化钾', '棕榈酸', '乙二醇...  \n",
       "2  ['肉豆蔻酸', '甘油', '水', '丙二醇', '氢氧化钾', '棕榈酸', '乙二醇...  \n",
       "3  ['肉豆蔻酸', '甘油', '水', '丙二醇', '氢氧化钾', '棕榈酸', '乙二醇...  \n",
       "4  ['水', '甘油', '聚二甲基硅氧烷', '辛酸/癸酸甘油三酯', '棕榈酸', '乙二...  "
      ]
     },
     "execution_count": 4,
     "metadata": {},
     "output_type": "execute_result"
    }
   ],
   "source": [
    "print(df_comb.shape)\n",
    "df_comb.head()"
   ]
  },
  {
   "cell_type": "code",
   "execution_count": 5,
   "id": "a16d662e",
   "metadata": {},
   "outputs": [],
   "source": [
    "df_comb.drop(['Unnamed: 0_x','Unnamed: 0_y'], axis = 1, inplace=True)"
   ]
  },
  {
   "cell_type": "code",
   "execution_count": 6,
   "id": "a3a75f07",
   "metadata": {},
   "outputs": [
    {
     "data": {
      "text/html": [
       "<div>\n",
       "<style scoped>\n",
       "    .dataframe tbody tr th:only-of-type {\n",
       "        vertical-align: middle;\n",
       "    }\n",
       "\n",
       "    .dataframe tbody tr th {\n",
       "        vertical-align: top;\n",
       "    }\n",
       "\n",
       "    .dataframe thead th {\n",
       "        text-align: right;\n",
       "    }\n",
       "</style>\n",
       "<table border=\"1\" class=\"dataframe\">\n",
       "  <thead>\n",
       "    <tr style=\"text-align: right;\">\n",
       "      <th></th>\n",
       "      <th>uuid</th>\n",
       "      <th>channel</th>\n",
       "      <th>sales_period_</th>\n",
       "    </tr>\n",
       "  </thead>\n",
       "  <tbody>\n",
       "    <tr>\n",
       "      <th>0</th>\n",
       "      <td>112777</td>\n",
       "      <td>EC</td>\n",
       "      <td>6</td>\n",
       "    </tr>\n",
       "    <tr>\n",
       "      <th>1</th>\n",
       "      <td>112777</td>\n",
       "      <td>RT</td>\n",
       "      <td>6</td>\n",
       "    </tr>\n",
       "    <tr>\n",
       "      <th>2</th>\n",
       "      <td>112777</td>\n",
       "      <td>EC</td>\n",
       "      <td>12</td>\n",
       "    </tr>\n",
       "    <tr>\n",
       "      <th>3</th>\n",
       "      <td>112777</td>\n",
       "      <td>RT</td>\n",
       "      <td>12</td>\n",
       "    </tr>\n",
       "    <tr>\n",
       "      <th>4</th>\n",
       "      <td>157886</td>\n",
       "      <td>EC</td>\n",
       "      <td>6</td>\n",
       "    </tr>\n",
       "    <tr>\n",
       "      <th>...</th>\n",
       "      <td>...</td>\n",
       "      <td>...</td>\n",
       "      <td>...</td>\n",
       "    </tr>\n",
       "    <tr>\n",
       "      <th>145</th>\n",
       "      <td>982584</td>\n",
       "      <td>RT</td>\n",
       "      <td>6</td>\n",
       "    </tr>\n",
       "    <tr>\n",
       "      <th>146</th>\n",
       "      <td>982584</td>\n",
       "      <td>EC</td>\n",
       "      <td>12</td>\n",
       "    </tr>\n",
       "    <tr>\n",
       "      <th>147</th>\n",
       "      <td>982584</td>\n",
       "      <td>RT</td>\n",
       "      <td>12</td>\n",
       "    </tr>\n",
       "    <tr>\n",
       "      <th>148</th>\n",
       "      <td>994949</td>\n",
       "      <td>RT</td>\n",
       "      <td>6</td>\n",
       "    </tr>\n",
       "    <tr>\n",
       "      <th>149</th>\n",
       "      <td>994949</td>\n",
       "      <td>RT</td>\n",
       "      <td>12</td>\n",
       "    </tr>\n",
       "  </tbody>\n",
       "</table>\n",
       "<p>150 rows × 3 columns</p>\n",
       "</div>"
      ],
      "text/plain": [
       "       uuid channel  sales_period_\n",
       "0    112777      EC              6\n",
       "1    112777      RT              6\n",
       "2    112777      EC             12\n",
       "3    112777      RT             12\n",
       "4    157886      EC              6\n",
       "..      ...     ...            ...\n",
       "145  982584      RT              6\n",
       "146  982584      EC             12\n",
       "147  982584      RT             12\n",
       "148  994949      RT              6\n",
       "149  994949      RT             12\n",
       "\n",
       "[150 rows x 3 columns]"
      ]
     },
     "execution_count": 6,
     "metadata": {},
     "output_type": "execute_result"
    }
   ],
   "source": [
    "final_id = df_comb[['uuid','channel','sales_period_']]\n",
    "final_id"
   ]
  },
  {
   "cell_type": "markdown",
   "id": "1289aa16",
   "metadata": {},
   "source": [
    "## 特征提取"
   ]
  },
  {
   "cell_type": "code",
   "execution_count": 7,
   "id": "f0ac270e",
   "metadata": {
    "scrolled": true
   },
   "outputs": [],
   "source": [
    "#df_comb"
   ]
  },
  {
   "cell_type": "code",
   "execution_count": 8,
   "id": "0bd856d8",
   "metadata": {},
   "outputs": [],
   "source": [
    "## 成分\n",
    "def ingredient(df_in):\n",
    "    df = df_in.copy()\n",
    "    s = set()\n",
    "    for i in tqdm(df.ingredient):\n",
    "        i = i.replace(\" \",'').replace(\"',\",' ').replace(\"'\",'').replace(\"[\",'').replace(\"]\",'')\n",
    "        i = set(i.split(' '))\n",
    "        s = set.union(s, i)\n",
    "    list_igd = list(s) # 共210种成分\n",
    "    \n",
    "    count_1 = -1\n",
    "    for i in tqdm(df.ingredient):\n",
    "        i = i.replace(\" \",'').replace(\"',\",' ').replace(\"'\",'').replace(\"[\",'').replace(\"]\",'')\n",
    "        i = i.split(' ')\n",
    "        count_1 += 1\n",
    "        df['ingredient'][count_1] = i\n",
    "    \n",
    "    for colname in tqdm(list_igd):\n",
    "        count_2 = 0\n",
    "        df['df_'+colname] = -1\n",
    "        for sub in df['ingredient']:\n",
    "            if colname in sub:\n",
    "                df['df_'+colname][count_2] = 1\n",
    "            else:\n",
    "                df['df_'+colname][count_2] = 0\n",
    "            count_2 += 1\n",
    "    \n",
    "    df_out = df.drop(['ingredient'],axis=1)\n",
    "    \n",
    "    return df_out\n",
    "\n",
    "## 发行日期，按照日期远近的编码\n",
    "#def launch_date(df_in):\n",
    "    #df = df_in.copy()\n",
    "    ## str to date\n",
    "    #df['launch_date'] = pd.to_datetime(df['launch_date'])\n",
    "    ## find base date\n",
    "    #base_date = df['launch_date'].min() - datetime.timedelta(1)\n",
    "    ## calculate the lenght of launch date\n",
    "    #df['launch_date'] = df['launch_date'] - base_date\n",
    "    ## date to int\n",
    "    #df['launch_date'] = df['launch_date'].map(lambda x: x.days)\n",
    "    \n",
    "    #df_out = df.copy()\n",
    "    \n",
    "    #return df_out\n",
    "\n",
    "## 发行日期，按照淡旺季编码\n",
    "def launch_date(df_in):\n",
    "    df = df_in.copy()\n",
    "    df['launch_date']= pd.to_datetime(df['launch_date'])\n",
    "    df['launch_date']= df['launch_date'].dt.month\n",
    "    list_season = [3,5,7,8]\n",
    "    \n",
    "    count = 0\n",
    "    for m in df['launch_date']:\n",
    "        if m in list_season :\n",
    "            df['launch_date'][count] = 1\n",
    "        else:\n",
    "            df['launch_date'][count] = 0\n",
    "        count += 1\n",
    "        \n",
    "    df_out = df.copy()\n",
    "    \n",
    "    return df_out\n",
    "\n",
    "## 品牌\n",
    "def brand(df_in):\n",
    "    df = df_in.copy()\n",
    "    df = pd.concat([df, pd.get_dummies(df['brand'], prefix='brand')], axis=1)\n",
    "    df_out = df.drop(['brand'],axis=1)\n",
    "    \n",
    "    return df_out\n",
    "\n",
    "## 渠道\n",
    "def channel(df_in):\n",
    "    df = df_in.copy()\n",
    "    df = pd.concat([df, pd.get_dummies(df['channel'], prefix='channel')], axis=1)\n",
    "    df_out = df.drop(['channel'],axis=1)\n",
    "    return df_out\n",
    "\n",
    "## 有无促销\n",
    "def promotion(df_in):\n",
    "    df = df_in.copy()\n",
    "    \n",
    "    count = 0\n",
    "    for p in range(len(df)):\n",
    "        df['promotion'] = np.where(df['material_name_zh'].str.contains('.*?限量')|df['material_name_zh'].str.contains('.*?促销')|df['material_name_zh'].str.contains('.*?赠品'),1,0)\n",
    "        count += 1\n",
    "\n",
    "    df_out = df.copy()\n",
    "    return df_out\n",
    "\n",
    "## 是否为男士产品\n",
    "def man(df_in):\n",
    "    df = df_in.copy()\n",
    "    \n",
    "    count = 0\n",
    "    for c in range(len(df)):\n",
    "        df['man'] = np.where(df['material_name_zh'].str.contains('.*?男士'),1,0)\n",
    "        count += 1\n",
    "\n",
    "    df_out = df.copy()\n",
    "    \n",
    "    df_out = df.drop(['material_name_zh'],axis=1)\n",
    "    \n",
    "    return df_out\n",
    "\n",
    "## 品类/功效\n",
    "#def product(df_in):\n",
    "    #df = df_in.copy()\n",
    "    ##list_product = ['洁面','洗面','润肤','精华液','面膜','精华霜','身体乳','护手','洗发水','沐浴露','护发素','啫喱','颈膜','磨砂膏']\n",
    "    \n",
    "    #count = 0\n",
    "    #for x in range(len(df)):\n",
    "        #df['product']= np.where(df['material_name_zh'].str.contains('.*?洁面')|df['material_name_zh'].str.contains('.*?洗面'),1,\n",
    "                                #df['material_name_zh'].str.contains('.*?润肤'),2,\n",
    "                                #df['material_name_zh'].str.contains('.*?精华液'),3,\n",
    "                                #df['material_name_zh'].str.contains('.*?面膜'),4,\n",
    "                                #df['material_name_zh'].str.contains('.*?精华霜'),5,\n",
    "                                #df['material_name_zh'].str.contains('.*?身体乳'),6,\n",
    "                                #df['material_name_zh'].str.contains('.*?护手'),7,\n",
    "                                #df['material_name_zh'].str.contains('.*?洗发水'),8,\n",
    "                                #df['material_name_zh'].str.contains('.*?沐浴露'),9,\n",
    "                                #df['material_name_zh'].str.contains('.*?护发素'),10,\n",
    "                                #df['material_name_zh'].str.contains('.*?啫喱'),11,\n",
    "                                #df['material_name_zh'].str.contains('.*?颈膜'),12,\n",
    "                                #df['material_name_zh'].str.contains('.*?磨砂膏'),13,0)\n",
    "        \n",
    "        #count += 1\n",
    "        \n",
    "    #df_out = df.copy()\n",
    "    \n",
    "    #df_out = df.drop(['material_name_zh'],axis=1)\n",
    "    \n",
    "    #return df_out\n",
    "    "
   ]
  },
  {
   "cell_type": "code",
   "execution_count": 9,
   "id": "5b385c6e",
   "metadata": {},
   "outputs": [
    {
     "name": "stdout",
     "output_type": "stream",
     "text": [
      "Start processing...\n",
      "ingredient\n"
     ]
    },
    {
     "name": "stderr",
     "output_type": "stream",
     "text": [
      "100%|█████████████████████████████████████████████████████████████████████████████| 150/150 [00:00<00:00, 33045.10it/s]\n",
      "100%|██████████████████████████████████████████████████████████████████████████████| 150/150 [00:00<00:00, 2511.75it/s]\n",
      "100%|████████████████████████████████████████████████████████████████████████████████| 210/210 [00:23<00:00,  8.82it/s]\n"
     ]
    },
    {
     "name": "stdout",
     "output_type": "stream",
     "text": [
      "launch_date\n",
      "brand\n",
      "channel\n",
      "promotion\n",
      "man\n",
      "product\n",
      "processing finish!\n"
     ]
    }
   ],
   "source": [
    "df_proc = df_comb.copy()\n",
    "print('Start processing...')\n",
    "print('ingredient')\n",
    "df_proc = ingredient(df_proc)\n",
    "print('launch_date')\n",
    "df_proc = launch_date(df_proc)\n",
    "print('brand')\n",
    "df_proc = brand(df_proc)\n",
    "print('channel')\n",
    "df_proc = channel(df_proc)\n",
    "print('promotion')\n",
    "df_proc = promotion(df_proc)\n",
    "print('man')\n",
    "df_proc = man(df_proc)\n",
    "print('product')\n",
    "#df_proc = product(df_proc)\n",
    "print('processing finish!')"
   ]
  },
  {
   "cell_type": "code",
   "execution_count": 10,
   "id": "884c4805",
   "metadata": {},
   "outputs": [
    {
     "data": {
      "text/html": [
       "<div>\n",
       "<style scoped>\n",
       "    .dataframe tbody tr th:only-of-type {\n",
       "        vertical-align: middle;\n",
       "    }\n",
       "\n",
       "    .dataframe tbody tr th {\n",
       "        vertical-align: top;\n",
       "    }\n",
       "\n",
       "    .dataframe thead th {\n",
       "        text-align: right;\n",
       "    }\n",
       "</style>\n",
       "<table border=\"1\" class=\"dataframe\">\n",
       "  <thead>\n",
       "    <tr style=\"text-align: right;\">\n",
       "      <th></th>\n",
       "      <th>uuid</th>\n",
       "      <th>sales_period_</th>\n",
       "      <th>sales_value</th>\n",
       "      <th>launch_date</th>\n",
       "      <th>df_琥珀酸二乙氧基乙酯</th>\n",
       "      <th>df_氯苯甘醚</th>\n",
       "      <th>df_CI77891</th>\n",
       "      <th>df_突厥蔷薇花提取物</th>\n",
       "      <th>df_月桂酸钠</th>\n",
       "      <th>df_四羟丙基乙二胺</th>\n",
       "      <th>...</th>\n",
       "      <th>df_二苯酮-4</th>\n",
       "      <th>df_细齿樱桃花提取物</th>\n",
       "      <th>brand_DOVE</th>\n",
       "      <th>brand_LUX</th>\n",
       "      <th>brand_POND'S</th>\n",
       "      <th>brand_VASELINE</th>\n",
       "      <th>channel_EC</th>\n",
       "      <th>channel_RT</th>\n",
       "      <th>promotion</th>\n",
       "      <th>man</th>\n",
       "    </tr>\n",
       "  </thead>\n",
       "  <tbody>\n",
       "    <tr>\n",
       "      <th>0</th>\n",
       "      <td>112777</td>\n",
       "      <td>6</td>\n",
       "      <td>8.201381</td>\n",
       "      <td>1</td>\n",
       "      <td>0</td>\n",
       "      <td>0</td>\n",
       "      <td>0</td>\n",
       "      <td>0</td>\n",
       "      <td>0</td>\n",
       "      <td>0</td>\n",
       "      <td>...</td>\n",
       "      <td>0</td>\n",
       "      <td>0</td>\n",
       "      <td>0</td>\n",
       "      <td>0</td>\n",
       "      <td>1</td>\n",
       "      <td>0</td>\n",
       "      <td>1</td>\n",
       "      <td>0</td>\n",
       "      <td>0</td>\n",
       "      <td>1</td>\n",
       "    </tr>\n",
       "    <tr>\n",
       "      <th>1</th>\n",
       "      <td>112777</td>\n",
       "      <td>6</td>\n",
       "      <td>5.497663</td>\n",
       "      <td>1</td>\n",
       "      <td>0</td>\n",
       "      <td>0</td>\n",
       "      <td>0</td>\n",
       "      <td>0</td>\n",
       "      <td>0</td>\n",
       "      <td>0</td>\n",
       "      <td>...</td>\n",
       "      <td>0</td>\n",
       "      <td>0</td>\n",
       "      <td>0</td>\n",
       "      <td>0</td>\n",
       "      <td>1</td>\n",
       "      <td>0</td>\n",
       "      <td>0</td>\n",
       "      <td>1</td>\n",
       "      <td>0</td>\n",
       "      <td>1</td>\n",
       "    </tr>\n",
       "    <tr>\n",
       "      <th>2</th>\n",
       "      <td>112777</td>\n",
       "      <td>12</td>\n",
       "      <td>8.525868</td>\n",
       "      <td>1</td>\n",
       "      <td>0</td>\n",
       "      <td>0</td>\n",
       "      <td>0</td>\n",
       "      <td>0</td>\n",
       "      <td>0</td>\n",
       "      <td>0</td>\n",
       "      <td>...</td>\n",
       "      <td>0</td>\n",
       "      <td>0</td>\n",
       "      <td>0</td>\n",
       "      <td>0</td>\n",
       "      <td>1</td>\n",
       "      <td>0</td>\n",
       "      <td>1</td>\n",
       "      <td>0</td>\n",
       "      <td>0</td>\n",
       "      <td>1</td>\n",
       "    </tr>\n",
       "    <tr>\n",
       "      <th>3</th>\n",
       "      <td>112777</td>\n",
       "      <td>12</td>\n",
       "      <td>5.531329</td>\n",
       "      <td>1</td>\n",
       "      <td>0</td>\n",
       "      <td>0</td>\n",
       "      <td>0</td>\n",
       "      <td>0</td>\n",
       "      <td>0</td>\n",
       "      <td>0</td>\n",
       "      <td>...</td>\n",
       "      <td>0</td>\n",
       "      <td>0</td>\n",
       "      <td>0</td>\n",
       "      <td>0</td>\n",
       "      <td>1</td>\n",
       "      <td>0</td>\n",
       "      <td>0</td>\n",
       "      <td>1</td>\n",
       "      <td>0</td>\n",
       "      <td>1</td>\n",
       "    </tr>\n",
       "    <tr>\n",
       "      <th>4</th>\n",
       "      <td>157886</td>\n",
       "      <td>6</td>\n",
       "      <td>8.775864</td>\n",
       "      <td>1</td>\n",
       "      <td>0</td>\n",
       "      <td>0</td>\n",
       "      <td>0</td>\n",
       "      <td>0</td>\n",
       "      <td>0</td>\n",
       "      <td>0</td>\n",
       "      <td>...</td>\n",
       "      <td>0</td>\n",
       "      <td>0</td>\n",
       "      <td>1</td>\n",
       "      <td>0</td>\n",
       "      <td>0</td>\n",
       "      <td>0</td>\n",
       "      <td>1</td>\n",
       "      <td>0</td>\n",
       "      <td>0</td>\n",
       "      <td>0</td>\n",
       "    </tr>\n",
       "    <tr>\n",
       "      <th>...</th>\n",
       "      <td>...</td>\n",
       "      <td>...</td>\n",
       "      <td>...</td>\n",
       "      <td>...</td>\n",
       "      <td>...</td>\n",
       "      <td>...</td>\n",
       "      <td>...</td>\n",
       "      <td>...</td>\n",
       "      <td>...</td>\n",
       "      <td>...</td>\n",
       "      <td>...</td>\n",
       "      <td>...</td>\n",
       "      <td>...</td>\n",
       "      <td>...</td>\n",
       "      <td>...</td>\n",
       "      <td>...</td>\n",
       "      <td>...</td>\n",
       "      <td>...</td>\n",
       "      <td>...</td>\n",
       "      <td>...</td>\n",
       "      <td>...</td>\n",
       "    </tr>\n",
       "    <tr>\n",
       "      <th>145</th>\n",
       "      <td>982584</td>\n",
       "      <td>6</td>\n",
       "      <td>9.505179</td>\n",
       "      <td>1</td>\n",
       "      <td>0</td>\n",
       "      <td>0</td>\n",
       "      <td>0</td>\n",
       "      <td>0</td>\n",
       "      <td>0</td>\n",
       "      <td>0</td>\n",
       "      <td>...</td>\n",
       "      <td>0</td>\n",
       "      <td>0</td>\n",
       "      <td>0</td>\n",
       "      <td>0</td>\n",
       "      <td>1</td>\n",
       "      <td>0</td>\n",
       "      <td>0</td>\n",
       "      <td>1</td>\n",
       "      <td>0</td>\n",
       "      <td>0</td>\n",
       "    </tr>\n",
       "    <tr>\n",
       "      <th>146</th>\n",
       "      <td>982584</td>\n",
       "      <td>12</td>\n",
       "      <td>9.870377</td>\n",
       "      <td>1</td>\n",
       "      <td>0</td>\n",
       "      <td>0</td>\n",
       "      <td>0</td>\n",
       "      <td>0</td>\n",
       "      <td>0</td>\n",
       "      <td>0</td>\n",
       "      <td>...</td>\n",
       "      <td>0</td>\n",
       "      <td>0</td>\n",
       "      <td>0</td>\n",
       "      <td>0</td>\n",
       "      <td>1</td>\n",
       "      <td>0</td>\n",
       "      <td>1</td>\n",
       "      <td>0</td>\n",
       "      <td>0</td>\n",
       "      <td>0</td>\n",
       "    </tr>\n",
       "    <tr>\n",
       "      <th>147</th>\n",
       "      <td>982584</td>\n",
       "      <td>12</td>\n",
       "      <td>9.844962</td>\n",
       "      <td>1</td>\n",
       "      <td>0</td>\n",
       "      <td>0</td>\n",
       "      <td>0</td>\n",
       "      <td>0</td>\n",
       "      <td>0</td>\n",
       "      <td>0</td>\n",
       "      <td>...</td>\n",
       "      <td>0</td>\n",
       "      <td>0</td>\n",
       "      <td>0</td>\n",
       "      <td>0</td>\n",
       "      <td>1</td>\n",
       "      <td>0</td>\n",
       "      <td>0</td>\n",
       "      <td>1</td>\n",
       "      <td>0</td>\n",
       "      <td>0</td>\n",
       "    </tr>\n",
       "    <tr>\n",
       "      <th>148</th>\n",
       "      <td>994949</td>\n",
       "      <td>6</td>\n",
       "      <td>9.887114</td>\n",
       "      <td>0</td>\n",
       "      <td>0</td>\n",
       "      <td>0</td>\n",
       "      <td>1</td>\n",
       "      <td>0</td>\n",
       "      <td>0</td>\n",
       "      <td>0</td>\n",
       "      <td>...</td>\n",
       "      <td>0</td>\n",
       "      <td>0</td>\n",
       "      <td>0</td>\n",
       "      <td>0</td>\n",
       "      <td>0</td>\n",
       "      <td>1</td>\n",
       "      <td>0</td>\n",
       "      <td>1</td>\n",
       "      <td>0</td>\n",
       "      <td>0</td>\n",
       "    </tr>\n",
       "    <tr>\n",
       "      <th>149</th>\n",
       "      <td>994949</td>\n",
       "      <td>12</td>\n",
       "      <td>10.111328</td>\n",
       "      <td>0</td>\n",
       "      <td>0</td>\n",
       "      <td>0</td>\n",
       "      <td>1</td>\n",
       "      <td>0</td>\n",
       "      <td>0</td>\n",
       "      <td>0</td>\n",
       "      <td>...</td>\n",
       "      <td>0</td>\n",
       "      <td>0</td>\n",
       "      <td>0</td>\n",
       "      <td>0</td>\n",
       "      <td>0</td>\n",
       "      <td>1</td>\n",
       "      <td>0</td>\n",
       "      <td>1</td>\n",
       "      <td>0</td>\n",
       "      <td>0</td>\n",
       "    </tr>\n",
       "  </tbody>\n",
       "</table>\n",
       "<p>150 rows × 222 columns</p>\n",
       "</div>"
      ],
      "text/plain": [
       "       uuid  sales_period_  sales_value  launch_date  df_琥珀酸二乙氧基乙酯  df_氯苯甘醚  \\\n",
       "0    112777              6     8.201381            1             0        0   \n",
       "1    112777              6     5.497663            1             0        0   \n",
       "2    112777             12     8.525868            1             0        0   \n",
       "3    112777             12     5.531329            1             0        0   \n",
       "4    157886              6     8.775864            1             0        0   \n",
       "..      ...            ...          ...          ...           ...      ...   \n",
       "145  982584              6     9.505179            1             0        0   \n",
       "146  982584             12     9.870377            1             0        0   \n",
       "147  982584             12     9.844962            1             0        0   \n",
       "148  994949              6     9.887114            0             0        0   \n",
       "149  994949             12    10.111328            0             0        0   \n",
       "\n",
       "     df_CI77891  df_突厥蔷薇花提取物  df_月桂酸钠  df_四羟丙基乙二胺  ...  df_二苯酮-4  df_细齿樱桃花提取物  \\\n",
       "0             0            0        0           0  ...         0            0   \n",
       "1             0            0        0           0  ...         0            0   \n",
       "2             0            0        0           0  ...         0            0   \n",
       "3             0            0        0           0  ...         0            0   \n",
       "4             0            0        0           0  ...         0            0   \n",
       "..          ...          ...      ...         ...  ...       ...          ...   \n",
       "145           0            0        0           0  ...         0            0   \n",
       "146           0            0        0           0  ...         0            0   \n",
       "147           0            0        0           0  ...         0            0   \n",
       "148           1            0        0           0  ...         0            0   \n",
       "149           1            0        0           0  ...         0            0   \n",
       "\n",
       "     brand_DOVE  brand_LUX  brand_POND'S  brand_VASELINE  channel_EC  \\\n",
       "0             0          0             1               0           1   \n",
       "1             0          0             1               0           0   \n",
       "2             0          0             1               0           1   \n",
       "3             0          0             1               0           0   \n",
       "4             1          0             0               0           1   \n",
       "..          ...        ...           ...             ...         ...   \n",
       "145           0          0             1               0           0   \n",
       "146           0          0             1               0           1   \n",
       "147           0          0             1               0           0   \n",
       "148           0          0             0               1           0   \n",
       "149           0          0             0               1           0   \n",
       "\n",
       "     channel_RT  promotion  man  \n",
       "0             0          0    1  \n",
       "1             1          0    1  \n",
       "2             0          0    1  \n",
       "3             1          0    1  \n",
       "4             0          0    0  \n",
       "..          ...        ...  ...  \n",
       "145           1          0    0  \n",
       "146           0          0    0  \n",
       "147           1          0    0  \n",
       "148           1          0    0  \n",
       "149           1          0    0  \n",
       "\n",
       "[150 rows x 222 columns]"
      ]
     },
     "execution_count": 10,
     "metadata": {},
     "output_type": "execute_result"
    }
   ],
   "source": [
    "df_proc"
   ]
  },
  {
   "cell_type": "code",
   "execution_count": 20,
   "id": "63432ebb",
   "metadata": {},
   "outputs": [
    {
     "data": {
      "text/plain": [
       "0    0\n",
       "1    0\n",
       "2    0\n",
       "3    0\n",
       "Name: promotion, dtype: int32"
      ]
     },
     "execution_count": 20,
     "metadata": {},
     "output_type": "execute_result"
    }
   ],
   "source": []
  },
  {
   "cell_type": "code",
   "execution_count": null,
   "id": "12a9d12f",
   "metadata": {},
   "outputs": [],
   "source": []
  },
  {
   "cell_type": "markdown",
   "id": "c6515966",
   "metadata": {},
   "source": [
    "## 标准化"
   ]
  },
  {
   "cell_type": "code",
   "execution_count": 12,
   "id": "48d868a7",
   "metadata": {},
   "outputs": [
    {
     "data": {
      "text/html": [
       "<div>\n",
       "<style scoped>\n",
       "    .dataframe tbody tr th:only-of-type {\n",
       "        vertical-align: middle;\n",
       "    }\n",
       "\n",
       "    .dataframe tbody tr th {\n",
       "        vertical-align: top;\n",
       "    }\n",
       "\n",
       "    .dataframe thead th {\n",
       "        text-align: right;\n",
       "    }\n",
       "</style>\n",
       "<table border=\"1\" class=\"dataframe\">\n",
       "  <thead>\n",
       "    <tr style=\"text-align: right;\">\n",
       "      <th></th>\n",
       "      <th>uuid</th>\n",
       "      <th>sales_value</th>\n",
       "      <th>0</th>\n",
       "      <th>1</th>\n",
       "      <th>2</th>\n",
       "      <th>3</th>\n",
       "      <th>4</th>\n",
       "      <th>5</th>\n",
       "      <th>6</th>\n",
       "      <th>7</th>\n",
       "      <th>...</th>\n",
       "      <th>210</th>\n",
       "      <th>211</th>\n",
       "      <th>212</th>\n",
       "      <th>213</th>\n",
       "      <th>214</th>\n",
       "      <th>215</th>\n",
       "      <th>216</th>\n",
       "      <th>217</th>\n",
       "      <th>218</th>\n",
       "      <th>219</th>\n",
       "    </tr>\n",
       "  </thead>\n",
       "  <tbody>\n",
       "    <tr>\n",
       "      <th>0</th>\n",
       "      <td>112777</td>\n",
       "      <td>8.201381</td>\n",
       "      <td>-1.0</td>\n",
       "      <td>0.5</td>\n",
       "      <td>-0.165521</td>\n",
       "      <td>-0.204124</td>\n",
       "      <td>-0.665062</td>\n",
       "      <td>-0.237356</td>\n",
       "      <td>-0.165521</td>\n",
       "      <td>-0.165521</td>\n",
       "      <td>...</td>\n",
       "      <td>-0.436436</td>\n",
       "      <td>-0.320844</td>\n",
       "      <td>-0.793999</td>\n",
       "      <td>-0.204124</td>\n",
       "      <td>1.920286</td>\n",
       "      <td>-0.750000</td>\n",
       "      <td>1.191367</td>\n",
       "      <td>-1.191367</td>\n",
       "      <td>-0.320844</td>\n",
       "      <td>4.213075</td>\n",
       "    </tr>\n",
       "    <tr>\n",
       "      <th>1</th>\n",
       "      <td>112777</td>\n",
       "      <td>5.497663</td>\n",
       "      <td>-1.0</td>\n",
       "      <td>0.5</td>\n",
       "      <td>-0.165521</td>\n",
       "      <td>-0.204124</td>\n",
       "      <td>-0.665062</td>\n",
       "      <td>-0.237356</td>\n",
       "      <td>-0.165521</td>\n",
       "      <td>-0.165521</td>\n",
       "      <td>...</td>\n",
       "      <td>-0.436436</td>\n",
       "      <td>-0.320844</td>\n",
       "      <td>-0.793999</td>\n",
       "      <td>-0.204124</td>\n",
       "      <td>1.920286</td>\n",
       "      <td>-0.750000</td>\n",
       "      <td>-0.839372</td>\n",
       "      <td>0.839372</td>\n",
       "      <td>-0.320844</td>\n",
       "      <td>4.213075</td>\n",
       "    </tr>\n",
       "    <tr>\n",
       "      <th>2</th>\n",
       "      <td>112777</td>\n",
       "      <td>8.525868</td>\n",
       "      <td>1.0</td>\n",
       "      <td>0.5</td>\n",
       "      <td>-0.165521</td>\n",
       "      <td>-0.204124</td>\n",
       "      <td>-0.665062</td>\n",
       "      <td>-0.237356</td>\n",
       "      <td>-0.165521</td>\n",
       "      <td>-0.165521</td>\n",
       "      <td>...</td>\n",
       "      <td>-0.436436</td>\n",
       "      <td>-0.320844</td>\n",
       "      <td>-0.793999</td>\n",
       "      <td>-0.204124</td>\n",
       "      <td>1.920286</td>\n",
       "      <td>-0.750000</td>\n",
       "      <td>1.191367</td>\n",
       "      <td>-1.191367</td>\n",
       "      <td>-0.320844</td>\n",
       "      <td>4.213075</td>\n",
       "    </tr>\n",
       "    <tr>\n",
       "      <th>3</th>\n",
       "      <td>112777</td>\n",
       "      <td>5.531329</td>\n",
       "      <td>1.0</td>\n",
       "      <td>0.5</td>\n",
       "      <td>-0.165521</td>\n",
       "      <td>-0.204124</td>\n",
       "      <td>-0.665062</td>\n",
       "      <td>-0.237356</td>\n",
       "      <td>-0.165521</td>\n",
       "      <td>-0.165521</td>\n",
       "      <td>...</td>\n",
       "      <td>-0.436436</td>\n",
       "      <td>-0.320844</td>\n",
       "      <td>-0.793999</td>\n",
       "      <td>-0.204124</td>\n",
       "      <td>1.920286</td>\n",
       "      <td>-0.750000</td>\n",
       "      <td>-0.839372</td>\n",
       "      <td>0.839372</td>\n",
       "      <td>-0.320844</td>\n",
       "      <td>4.213075</td>\n",
       "    </tr>\n",
       "    <tr>\n",
       "      <th>4</th>\n",
       "      <td>157886</td>\n",
       "      <td>8.775864</td>\n",
       "      <td>-1.0</td>\n",
       "      <td>0.5</td>\n",
       "      <td>-0.165521</td>\n",
       "      <td>-0.204124</td>\n",
       "      <td>-0.665062</td>\n",
       "      <td>-0.237356</td>\n",
       "      <td>-0.165521</td>\n",
       "      <td>-0.165521</td>\n",
       "      <td>...</td>\n",
       "      <td>-0.436436</td>\n",
       "      <td>-0.320844</td>\n",
       "      <td>1.259447</td>\n",
       "      <td>-0.204124</td>\n",
       "      <td>-0.520756</td>\n",
       "      <td>-0.750000</td>\n",
       "      <td>1.191367</td>\n",
       "      <td>-1.191367</td>\n",
       "      <td>-0.320844</td>\n",
       "      <td>-0.237356</td>\n",
       "    </tr>\n",
       "    <tr>\n",
       "      <th>...</th>\n",
       "      <td>...</td>\n",
       "      <td>...</td>\n",
       "      <td>...</td>\n",
       "      <td>...</td>\n",
       "      <td>...</td>\n",
       "      <td>...</td>\n",
       "      <td>...</td>\n",
       "      <td>...</td>\n",
       "      <td>...</td>\n",
       "      <td>...</td>\n",
       "      <td>...</td>\n",
       "      <td>...</td>\n",
       "      <td>...</td>\n",
       "      <td>...</td>\n",
       "      <td>...</td>\n",
       "      <td>...</td>\n",
       "      <td>...</td>\n",
       "      <td>...</td>\n",
       "      <td>...</td>\n",
       "      <td>...</td>\n",
       "      <td>...</td>\n",
       "    </tr>\n",
       "    <tr>\n",
       "      <th>145</th>\n",
       "      <td>982584</td>\n",
       "      <td>9.505179</td>\n",
       "      <td>-1.0</td>\n",
       "      <td>0.5</td>\n",
       "      <td>-0.165521</td>\n",
       "      <td>-0.204124</td>\n",
       "      <td>-0.665062</td>\n",
       "      <td>-0.237356</td>\n",
       "      <td>-0.165521</td>\n",
       "      <td>-0.165521</td>\n",
       "      <td>...</td>\n",
       "      <td>-0.436436</td>\n",
       "      <td>-0.320844</td>\n",
       "      <td>-0.793999</td>\n",
       "      <td>-0.204124</td>\n",
       "      <td>1.920286</td>\n",
       "      <td>-0.750000</td>\n",
       "      <td>-0.839372</td>\n",
       "      <td>0.839372</td>\n",
       "      <td>-0.320844</td>\n",
       "      <td>-0.237356</td>\n",
       "    </tr>\n",
       "    <tr>\n",
       "      <th>146</th>\n",
       "      <td>982584</td>\n",
       "      <td>9.870377</td>\n",
       "      <td>1.0</td>\n",
       "      <td>0.5</td>\n",
       "      <td>-0.165521</td>\n",
       "      <td>-0.204124</td>\n",
       "      <td>-0.665062</td>\n",
       "      <td>-0.237356</td>\n",
       "      <td>-0.165521</td>\n",
       "      <td>-0.165521</td>\n",
       "      <td>...</td>\n",
       "      <td>-0.436436</td>\n",
       "      <td>-0.320844</td>\n",
       "      <td>-0.793999</td>\n",
       "      <td>-0.204124</td>\n",
       "      <td>1.920286</td>\n",
       "      <td>-0.750000</td>\n",
       "      <td>1.191367</td>\n",
       "      <td>-1.191367</td>\n",
       "      <td>-0.320844</td>\n",
       "      <td>-0.237356</td>\n",
       "    </tr>\n",
       "    <tr>\n",
       "      <th>147</th>\n",
       "      <td>982584</td>\n",
       "      <td>9.844962</td>\n",
       "      <td>1.0</td>\n",
       "      <td>0.5</td>\n",
       "      <td>-0.165521</td>\n",
       "      <td>-0.204124</td>\n",
       "      <td>-0.665062</td>\n",
       "      <td>-0.237356</td>\n",
       "      <td>-0.165521</td>\n",
       "      <td>-0.165521</td>\n",
       "      <td>...</td>\n",
       "      <td>-0.436436</td>\n",
       "      <td>-0.320844</td>\n",
       "      <td>-0.793999</td>\n",
       "      <td>-0.204124</td>\n",
       "      <td>1.920286</td>\n",
       "      <td>-0.750000</td>\n",
       "      <td>-0.839372</td>\n",
       "      <td>0.839372</td>\n",
       "      <td>-0.320844</td>\n",
       "      <td>-0.237356</td>\n",
       "    </tr>\n",
       "    <tr>\n",
       "      <th>148</th>\n",
       "      <td>994949</td>\n",
       "      <td>9.887114</td>\n",
       "      <td>-1.0</td>\n",
       "      <td>-2.0</td>\n",
       "      <td>-0.165521</td>\n",
       "      <td>-0.204124</td>\n",
       "      <td>1.503619</td>\n",
       "      <td>-0.237356</td>\n",
       "      <td>-0.165521</td>\n",
       "      <td>-0.165521</td>\n",
       "      <td>...</td>\n",
       "      <td>-0.436436</td>\n",
       "      <td>-0.320844</td>\n",
       "      <td>-0.793999</td>\n",
       "      <td>-0.204124</td>\n",
       "      <td>-0.520756</td>\n",
       "      <td>1.333333</td>\n",
       "      <td>-0.839372</td>\n",
       "      <td>0.839372</td>\n",
       "      <td>-0.320844</td>\n",
       "      <td>-0.237356</td>\n",
       "    </tr>\n",
       "    <tr>\n",
       "      <th>149</th>\n",
       "      <td>994949</td>\n",
       "      <td>10.111328</td>\n",
       "      <td>1.0</td>\n",
       "      <td>-2.0</td>\n",
       "      <td>-0.165521</td>\n",
       "      <td>-0.204124</td>\n",
       "      <td>1.503619</td>\n",
       "      <td>-0.237356</td>\n",
       "      <td>-0.165521</td>\n",
       "      <td>-0.165521</td>\n",
       "      <td>...</td>\n",
       "      <td>-0.436436</td>\n",
       "      <td>-0.320844</td>\n",
       "      <td>-0.793999</td>\n",
       "      <td>-0.204124</td>\n",
       "      <td>-0.520756</td>\n",
       "      <td>1.333333</td>\n",
       "      <td>-0.839372</td>\n",
       "      <td>0.839372</td>\n",
       "      <td>-0.320844</td>\n",
       "      <td>-0.237356</td>\n",
       "    </tr>\n",
       "  </tbody>\n",
       "</table>\n",
       "<p>150 rows × 222 columns</p>\n",
       "</div>"
      ],
      "text/plain": [
       "       uuid  sales_value    0    1         2         3         4         5  \\\n",
       "0    112777     8.201381 -1.0  0.5 -0.165521 -0.204124 -0.665062 -0.237356   \n",
       "1    112777     5.497663 -1.0  0.5 -0.165521 -0.204124 -0.665062 -0.237356   \n",
       "2    112777     8.525868  1.0  0.5 -0.165521 -0.204124 -0.665062 -0.237356   \n",
       "3    112777     5.531329  1.0  0.5 -0.165521 -0.204124 -0.665062 -0.237356   \n",
       "4    157886     8.775864 -1.0  0.5 -0.165521 -0.204124 -0.665062 -0.237356   \n",
       "..      ...          ...  ...  ...       ...       ...       ...       ...   \n",
       "145  982584     9.505179 -1.0  0.5 -0.165521 -0.204124 -0.665062 -0.237356   \n",
       "146  982584     9.870377  1.0  0.5 -0.165521 -0.204124 -0.665062 -0.237356   \n",
       "147  982584     9.844962  1.0  0.5 -0.165521 -0.204124 -0.665062 -0.237356   \n",
       "148  994949     9.887114 -1.0 -2.0 -0.165521 -0.204124  1.503619 -0.237356   \n",
       "149  994949    10.111328  1.0 -2.0 -0.165521 -0.204124  1.503619 -0.237356   \n",
       "\n",
       "            6         7  ...       210       211       212       213  \\\n",
       "0   -0.165521 -0.165521  ... -0.436436 -0.320844 -0.793999 -0.204124   \n",
       "1   -0.165521 -0.165521  ... -0.436436 -0.320844 -0.793999 -0.204124   \n",
       "2   -0.165521 -0.165521  ... -0.436436 -0.320844 -0.793999 -0.204124   \n",
       "3   -0.165521 -0.165521  ... -0.436436 -0.320844 -0.793999 -0.204124   \n",
       "4   -0.165521 -0.165521  ... -0.436436 -0.320844  1.259447 -0.204124   \n",
       "..        ...       ...  ...       ...       ...       ...       ...   \n",
       "145 -0.165521 -0.165521  ... -0.436436 -0.320844 -0.793999 -0.204124   \n",
       "146 -0.165521 -0.165521  ... -0.436436 -0.320844 -0.793999 -0.204124   \n",
       "147 -0.165521 -0.165521  ... -0.436436 -0.320844 -0.793999 -0.204124   \n",
       "148 -0.165521 -0.165521  ... -0.436436 -0.320844 -0.793999 -0.204124   \n",
       "149 -0.165521 -0.165521  ... -0.436436 -0.320844 -0.793999 -0.204124   \n",
       "\n",
       "          214       215       216       217       218       219  \n",
       "0    1.920286 -0.750000  1.191367 -1.191367 -0.320844  4.213075  \n",
       "1    1.920286 -0.750000 -0.839372  0.839372 -0.320844  4.213075  \n",
       "2    1.920286 -0.750000  1.191367 -1.191367 -0.320844  4.213075  \n",
       "3    1.920286 -0.750000 -0.839372  0.839372 -0.320844  4.213075  \n",
       "4   -0.520756 -0.750000  1.191367 -1.191367 -0.320844 -0.237356  \n",
       "..        ...       ...       ...       ...       ...       ...  \n",
       "145  1.920286 -0.750000 -0.839372  0.839372 -0.320844 -0.237356  \n",
       "146  1.920286 -0.750000  1.191367 -1.191367 -0.320844 -0.237356  \n",
       "147  1.920286 -0.750000 -0.839372  0.839372 -0.320844 -0.237356  \n",
       "148 -0.520756  1.333333 -0.839372  0.839372 -0.320844 -0.237356  \n",
       "149 -0.520756  1.333333 -0.839372  0.839372 -0.320844 -0.237356  \n",
       "\n",
       "[150 rows x 222 columns]"
      ]
     },
     "execution_count": 12,
     "metadata": {},
     "output_type": "execute_result"
    }
   ],
   "source": [
    "df_nor = df_proc.copy()\n",
    "\n",
    "Y = df_nor[['uuid','sales_value']]\n",
    "X = df_nor.drop(['sales_value','uuid'],axis=1)\n",
    "\n",
    "ss = StandardScaler()\n",
    "std_data = ss.fit_transform(X)\n",
    "origin_data = ss.inverse_transform(std_data)\n",
    "\n",
    "df_std_ = pd.DataFrame(std_data)\n",
    "df_std = pd.concat([Y, df_std_], axis=1)\n",
    "\n",
    "df_std"
   ]
  },
  {
   "cell_type": "markdown",
   "id": "76ec9e94",
   "metadata": {},
   "source": [
    "## PCA降维"
   ]
  },
  {
   "cell_type": "code",
   "execution_count": 13,
   "id": "550eabb1",
   "metadata": {},
   "outputs": [
    {
     "name": "stdout",
     "output_type": "stream",
     "text": [
      "[ 2.51278075e+01+0.00000000e+00j  2.21882577e+01+0.00000000e+00j\n",
      "  1.91887280e+01+0.00000000e+00j  1.73573052e+01+0.00000000e+00j\n",
      "  1.62472285e+01+0.00000000e+00j  1.44880368e+01+0.00000000e+00j\n",
      "  1.39997096e+01+0.00000000e+00j  1.28847050e+01+0.00000000e+00j\n",
      "  1.06821763e+01+0.00000000e+00j  9.77529873e+00+0.00000000e+00j\n",
      "  8.68610061e+00+0.00000000e+00j  8.04114496e+00+0.00000000e+00j\n",
      "  6.04165473e+00+0.00000000e+00j  5.72870329e+00+0.00000000e+00j\n",
      "  5.17707766e+00+0.00000000e+00j  4.14322167e+00+0.00000000e+00j\n",
      "  2.87596821e+00+0.00000000e+00j  2.48905502e+00+0.00000000e+00j\n",
      "  2.36088833e+00+0.00000000e+00j  1.91449340e+00+0.00000000e+00j\n",
      "  1.68429856e+00+0.00000000e+00j  1.39143283e+00+0.00000000e+00j\n",
      "  1.27185969e+00+0.00000000e+00j  1.00671141e+00+0.00000000e+00j\n",
      "  9.43719580e-01+0.00000000e+00j  7.78183109e-01+0.00000000e+00j\n",
      "  6.69503695e-01+0.00000000e+00j  4.81096855e-01+0.00000000e+00j\n",
      "  4.57165789e-01+0.00000000e+00j  4.01912161e-01+0.00000000e+00j\n",
      "  3.68723619e-01+0.00000000e+00j  2.51864351e-01+0.00000000e+00j\n",
      "  2.04756723e-01+0.00000000e+00j  8.81404623e-02+0.00000000e+00j\n",
      "  6.61571922e-02+0.00000000e+00j  2.18678563e-14+0.00000000e+00j\n",
      "  1.88060260e-14+0.00000000e+00j  1.56328114e-14+0.00000000e+00j\n",
      "  1.42693175e-14+0.00000000e+00j  1.24031730e-14+0.00000000e+00j\n",
      "  1.11426267e-14+0.00000000e+00j  1.01350303e-14+0.00000000e+00j\n",
      "  9.55568422e-15+0.00000000e+00j  8.72925340e-15+0.00000000e+00j\n",
      "  8.03224646e-15+0.00000000e+00j  7.97472558e-15+0.00000000e+00j\n",
      "  7.53316941e-15+0.00000000e+00j  7.01157700e-15+0.00000000e+00j\n",
      "  6.26637155e-15+0.00000000e+00j  5.97495565e-15+0.00000000e+00j\n",
      "  5.61370593e-15+0.00000000e+00j  4.92494227e-15+0.00000000e+00j\n",
      "  4.59162856e-15+8.02562981e-17j  4.59162856e-15-8.02562981e-17j\n",
      "  4.21553132e-15+4.44186430e-16j  4.21553132e-15-4.44186430e-16j\n",
      "  3.63475114e-15+0.00000000e+00j  3.20365120e-15+0.00000000e+00j\n",
      "  2.75293636e-15+2.66316447e-16j  2.75293636e-15-2.66316447e-16j\n",
      "  2.61876691e-15+0.00000000e+00j  2.22857121e-15+0.00000000e+00j\n",
      "  2.11611013e-15+9.90474414e-17j  2.11611013e-15-9.90474414e-17j\n",
      "  1.71837318e-15+1.06236187e-16j  1.71837318e-15-1.06236187e-16j\n",
      "  1.45152944e-15+0.00000000e+00j  1.27794922e-15+2.64016999e-16j\n",
      "  1.27794922e-15-2.64016999e-16j  1.03115278e-15+0.00000000e+00j\n",
      "  6.52750876e-16+0.00000000e+00j  5.72878008e-16+0.00000000e+00j\n",
      "  4.60449870e-16+2.00843186e-16j  4.60449870e-16-2.00843186e-16j\n",
      "  3.54826826e-16+2.89361002e-16j  3.54826826e-16-2.89361002e-16j\n",
      "  3.31532702e-16+0.00000000e+00j  1.50946894e-16+4.29853229e-17j\n",
      "  1.50946894e-16-4.29853229e-17j  1.47657635e-16+2.55554751e-16j\n",
      "  1.47657635e-16-2.55554751e-16j  1.03226775e-16+0.00000000e+00j\n",
      "  3.99275231e-17+8.97787869e-17j  3.99275231e-17-8.97787869e-17j\n",
      "  3.67658482e-17+0.00000000e+00j  2.13024801e-17+3.08076977e-17j\n",
      "  2.13024801e-17-3.08076977e-17j  7.12477515e-18+2.90397481e-18j\n",
      "  7.12477515e-18-2.90397481e-18j  8.83706943e-19+1.92086192e-19j\n",
      "  8.83706943e-19-1.92086192e-19j  3.52279807e-29+0.00000000e+00j\n",
      "  1.58805162e-30+0.00000000e+00j  5.56823707e-31+5.48768460e-31j\n",
      "  5.56823707e-31-5.48768460e-31j  5.12342912e-31+2.85338448e-31j\n",
      "  5.12342912e-31-2.85338448e-31j  4.55269254e-31+0.00000000e+00j\n",
      "  2.35758765e-31+4.60862053e-31j  2.35758765e-31-4.60862053e-31j\n",
      "  2.08418649e-31+9.47850169e-32j  2.08418649e-31-9.47850169e-32j\n",
      "  1.49265619e-31+0.00000000e+00j  1.45878277e-31+8.41415469e-32j\n",
      "  1.45878277e-31-8.41415469e-32j  6.41739363e-32+0.00000000e+00j\n",
      "  5.86529053e-32+2.57006255e-31j  5.86529053e-32-2.57006255e-31j\n",
      "  4.83464373e-32+4.98173172e-32j  4.83464373e-32-4.98173172e-32j\n",
      "  2.90321476e-32+4.40692216e-31j  2.90321476e-32-4.40692216e-31j\n",
      "  1.09961117e-32+0.00000000e+00j  6.29618365e-34+4.69696560e-34j\n",
      "  6.29618365e-34-4.69696560e-34j  6.23473365e-34+1.05425348e-33j\n",
      "  6.23473365e-34-1.05425348e-33j  2.04533624e-34+2.06676969e-34j\n",
      "  2.04533624e-34-2.06676969e-34j  3.70295563e-35+0.00000000e+00j\n",
      "  4.42626851e-48+0.00000000e+00j  4.29766143e-48+5.32041480e-48j\n",
      "  4.29766143e-48-5.32041480e-48j  9.27618203e-51+0.00000000e+00j\n",
      "  0.00000000e+00+0.00000000e+00j  0.00000000e+00+0.00000000e+00j\n",
      " -3.00320736e-50+0.00000000e+00j -2.09812928e-49+0.00000000e+00j\n",
      " -1.86825827e-48+0.00000000e+00j -3.77174386e-48+0.00000000e+00j\n",
      " -1.20625490e-47+0.00000000e+00j -2.95612979e-35+0.00000000e+00j\n",
      " -8.82005282e-35+8.89848053e-35j -8.82005282e-35-8.89848053e-35j\n",
      " -2.02813262e-34+6.72262088e-34j -2.02813262e-34-6.72262088e-34j\n",
      " -3.79768081e-34+0.00000000e+00j -5.62478889e-34+0.00000000e+00j\n",
      " -4.15289902e-33+0.00000000e+00j -3.14634487e-32+1.00350219e-31j\n",
      " -3.14634487e-32-1.00350219e-31j -3.43814073e-32+2.40660056e-32j\n",
      " -3.43814073e-32-2.40660056e-32j -6.70370700e-32+0.00000000e+00j\n",
      " -7.84914832e-32+2.36085308e-31j -7.84914832e-32-2.36085308e-31j\n",
      " -7.89855417e-32+1.30240185e-31j -7.89855417e-32-1.30240185e-31j\n",
      " -1.42107831e-31+7.44047148e-31j -1.42107831e-31-7.44047148e-31j\n",
      " -2.12547527e-31+1.31703216e-31j -2.12547527e-31-1.31703216e-31j\n",
      " -2.28553900e-31+0.00000000e+00j -3.83505158e-31+0.00000000e+00j\n",
      " -4.24894743e-31+2.27602932e-31j -4.24894743e-31-2.27602932e-31j\n",
      " -4.67022128e-31+4.39293364e-31j -4.67022128e-31-4.39293364e-31j\n",
      " -4.71591994e-31+0.00000000e+00j -7.07811607e-31+3.60765721e-31j\n",
      " -7.07811607e-31-3.60765721e-31j -7.69310787e-30+0.00000000e+00j\n",
      " -5.62472172e-21+1.08568338e-18j -5.62472172e-21-1.08568338e-18j\n",
      " -5.46645464e-18+5.80442267e-17j -5.46645464e-18-5.80442267e-17j\n",
      " -7.25149395e-18+1.15845504e-17j -7.25149395e-18-1.15845504e-17j\n",
      " -1.19272127e-17+4.56616106e-18j -1.19272127e-17-4.56616106e-18j\n",
      " -4.28735487e-17+2.78951246e-16j -4.28735487e-17-2.78951246e-16j\n",
      " -7.67901528e-17+0.00000000e+00j -1.02640099e-16+1.03038002e-16j\n",
      " -1.02640099e-16-1.03038002e-16j -1.33453965e-16+0.00000000e+00j\n",
      " -2.06273040e-16+0.00000000e+00j -2.95583643e-16+1.69429484e-16j\n",
      " -2.95583643e-16-1.69429484e-16j -4.52325887e-16+3.27101602e-16j\n",
      " -4.52325887e-16-3.27101602e-16j -4.88342781e-16+1.36714951e-16j\n",
      " -4.88342781e-16-1.36714951e-16j -5.55179364e-16+0.00000000e+00j\n",
      " -6.74158318e-16+0.00000000e+00j -9.87688141e-16+3.08952584e-16j\n",
      " -9.87688141e-16-3.08952584e-16j -1.27691045e-15+0.00000000e+00j\n",
      " -1.58240260e-15+0.00000000e+00j -2.01749970e-15+0.00000000e+00j\n",
      " -2.05336373e-15+0.00000000e+00j -2.39162132e-15+0.00000000e+00j\n",
      " -2.42941500e-15+0.00000000e+00j -2.79964783e-15+1.20784533e-16j\n",
      " -2.79964783e-15-1.20784533e-16j -2.97308391e-15+1.96151413e-16j\n",
      " -2.97308391e-15-1.96151413e-16j -3.69658397e-15+1.45139182e-16j\n",
      " -3.69658397e-15-1.45139182e-16j -4.11594586e-15+2.23511903e-16j\n",
      " -4.11594586e-15-2.23511903e-16j -4.40991455e-15+0.00000000e+00j\n",
      " -4.76945853e-15+4.41179828e-16j -4.76945853e-15-4.41179828e-16j\n",
      " -5.26729625e-15+0.00000000e+00j -5.69275941e-15+0.00000000e+00j\n",
      " -5.75501368e-15+4.87018829e-17j -5.75501368e-15-4.87018829e-17j\n",
      " -6.36801675e-15+1.17676773e-16j -6.36801675e-15-1.17676773e-16j\n",
      " -7.41275673e-15+0.00000000e+00j -8.04098556e-15+0.00000000e+00j\n",
      " -9.00041210e-15+0.00000000e+00j -1.00770257e-14+0.00000000e+00j\n",
      " -1.21031523e-14+0.00000000e+00j -1.23158203e-14+0.00000000e+00j\n",
      " -1.31113784e-14+0.00000000e+00j -1.49644101e-14+0.00000000e+00j\n",
      " -1.65303555e-14+0.00000000e+00j -1.73397669e-14+0.00000000e+00j]\n",
      "[[-1.88573300e-22+0.j  1.86475099e-20+0.j  3.64829460e-21+0.j ...\n",
      "  -2.26272115e-33+0.j  2.07690303e-33+0.j -4.83963884e-34+0.j]\n",
      " [-6.50848159e-02+0.j  1.01521566e-02+0.j -1.28945507e-02+0.j ...\n",
      "   1.42859453e-15+0.j  8.59608125e-15+0.j  8.13209181e-15+0.j]\n",
      " [ 1.47200269e-02+0.j  6.57138801e-02+0.j  2.61465755e-02+0.j ...\n",
      "   9.49874757e-03+0.j -1.13258055e-02+0.j -1.80197904e-02+0.j]\n",
      " ...\n",
      " [ 1.90767022e-04+0.j -1.65655007e-02+0.j -2.78200567e-03+0.j ...\n",
      "  -3.93624525e-04+0.j  2.08510946e-04+0.j  8.25093515e-05+0.j]\n",
      " [ 5.56331890e-02+0.j -3.78689271e-02+0.j -1.28732457e-02+0.j ...\n",
      "  -3.14268769e-15+0.j -4.11055840e-15+0.j -7.42854326e-15+0.j]\n",
      " [ 4.92045712e-02+0.j  3.72746403e-02+0.j -5.51058365e-02+0.j ...\n",
      "  -7.79136350e-02+0.j -1.98516079e-02+0.j  2.39942060e-02+0.j]]\n"
     ]
    }
   ],
   "source": [
    "Y = df_std[['uuid','sales_value']]\n",
    "X = df_std.drop(['uuid','sales_value'],axis=1)\n",
    "\n",
    "ew,ev = np.linalg.eig(np.cov(X.T))\n",
    "ew_order = np.argsort(ew)[::-1]\n",
    "ew_sort = ew[ew_order]\n",
    "ev_sort = ev[:,ew_order]\n",
    "print(ew_sort)\n",
    "print(ev_sort)"
   ]
  },
  {
   "cell_type": "code",
   "execution_count": 14,
   "id": "3fd32dce",
   "metadata": {},
   "outputs": [
    {
     "data": {
      "text/plain": [
       "<AxesSubplot:>"
      ]
     },
     "execution_count": 14,
     "metadata": {},
     "output_type": "execute_result"
    },
    {
     "data": {
      "image/png": "[encoded data removed]",
      "text/plain": [
       "<Figure size 1440x576 with 1 Axes>"
      ]
     },
     "metadata": {
      "needs_background": "light"
     },
     "output_type": "display_data"
    }
   ],
   "source": [
    "pd.DataFrame(ew_sort).plot(kind='bar',figsize=(20,8))"
   ]
  },
  {
   "cell_type": "code",
   "execution_count": 27,
   "id": "4e4407e2",
   "metadata": {},
   "outputs": [
    {
     "data": {
      "text/html": [
       "<div>\n",
       "<style scoped>\n",
       "    .dataframe tbody tr th:only-of-type {\n",
       "        vertical-align: middle;\n",
       "    }\n",
       "\n",
       "    .dataframe tbody tr th {\n",
       "        vertical-align: top;\n",
       "    }\n",
       "\n",
       "    .dataframe thead th {\n",
       "        text-align: right;\n",
       "    }\n",
       "</style>\n",
       "<table border=\"1\" class=\"dataframe\">\n",
       "  <thead>\n",
       "    <tr style=\"text-align: right;\">\n",
       "      <th></th>\n",
       "      <th>uuid</th>\n",
       "      <th>sales_value</th>\n",
       "      <th>0</th>\n",
       "      <th>1</th>\n",
       "      <th>2</th>\n",
       "      <th>3</th>\n",
       "      <th>4</th>\n",
       "      <th>5</th>\n",
       "      <th>6</th>\n",
       "      <th>7</th>\n",
       "      <th>8</th>\n",
       "      <th>9</th>\n",
       "      <th>10</th>\n",
       "      <th>11</th>\n",
       "      <th>12</th>\n",
       "      <th>13</th>\n",
       "      <th>14</th>\n",
       "      <th>15</th>\n",
       "    </tr>\n",
       "  </thead>\n",
       "  <tbody>\n",
       "    <tr>\n",
       "      <th>0</th>\n",
       "      <td>112777</td>\n",
       "      <td>8.201381</td>\n",
       "      <td>-5.463816</td>\n",
       "      <td>4.582212</td>\n",
       "      <td>4.129162</td>\n",
       "      <td>-2.150395</td>\n",
       "      <td>5.004710</td>\n",
       "      <td>-6.082302</td>\n",
       "      <td>0.178848</td>\n",
       "      <td>2.483373</td>\n",
       "      <td>10.108920</td>\n",
       "      <td>4.764509</td>\n",
       "      <td>1.067892</td>\n",
       "      <td>0.240801</td>\n",
       "      <td>0.875479</td>\n",
       "      <td>9.265605</td>\n",
       "      <td>-1.126028</td>\n",
       "      <td>0.226161</td>\n",
       "    </tr>\n",
       "    <tr>\n",
       "      <th>1</th>\n",
       "      <td>112777</td>\n",
       "      <td>5.497663</td>\n",
       "      <td>-5.464591</td>\n",
       "      <td>4.514931</td>\n",
       "      <td>4.140461</td>\n",
       "      <td>-2.135483</td>\n",
       "      <td>5.104822</td>\n",
       "      <td>-6.100938</td>\n",
       "      <td>0.204537</td>\n",
       "      <td>2.414294</td>\n",
       "      <td>9.961249</td>\n",
       "      <td>4.817689</td>\n",
       "      <td>1.135653</td>\n",
       "      <td>0.180805</td>\n",
       "      <td>0.763105</td>\n",
       "      <td>9.224862</td>\n",
       "      <td>-1.226811</td>\n",
       "      <td>0.089575</td>\n",
       "    </tr>\n",
       "    <tr>\n",
       "      <th>2</th>\n",
       "      <td>112777</td>\n",
       "      <td>8.525868</td>\n",
       "      <td>-5.463816</td>\n",
       "      <td>4.582212</td>\n",
       "      <td>4.129162</td>\n",
       "      <td>-2.150395</td>\n",
       "      <td>5.004710</td>\n",
       "      <td>-6.082302</td>\n",
       "      <td>0.178848</td>\n",
       "      <td>2.483373</td>\n",
       "      <td>10.108920</td>\n",
       "      <td>4.764509</td>\n",
       "      <td>1.067892</td>\n",
       "      <td>0.240801</td>\n",
       "      <td>0.875479</td>\n",
       "      <td>9.265605</td>\n",
       "      <td>-1.126028</td>\n",
       "      <td>0.226161</td>\n",
       "    </tr>\n",
       "    <tr>\n",
       "      <th>3</th>\n",
       "      <td>112777</td>\n",
       "      <td>5.531329</td>\n",
       "      <td>-5.464591</td>\n",
       "      <td>4.514931</td>\n",
       "      <td>4.140461</td>\n",
       "      <td>-2.135483</td>\n",
       "      <td>5.104822</td>\n",
       "      <td>-6.100938</td>\n",
       "      <td>0.204537</td>\n",
       "      <td>2.414294</td>\n",
       "      <td>9.961249</td>\n",
       "      <td>4.817689</td>\n",
       "      <td>1.135653</td>\n",
       "      <td>0.180805</td>\n",
       "      <td>0.763105</td>\n",
       "      <td>9.224862</td>\n",
       "      <td>-1.226811</td>\n",
       "      <td>0.089575</td>\n",
       "    </tr>\n",
       "    <tr>\n",
       "      <th>4</th>\n",
       "      <td>157886</td>\n",
       "      <td>8.775864</td>\n",
       "      <td>1.936468</td>\n",
       "      <td>3.468438</td>\n",
       "      <td>-0.561784</td>\n",
       "      <td>-1.257701</td>\n",
       "      <td>-0.886917</td>\n",
       "      <td>2.187202</td>\n",
       "      <td>-2.259362</td>\n",
       "      <td>2.104310</td>\n",
       "      <td>0.953861</td>\n",
       "      <td>-0.813646</td>\n",
       "      <td>-3.109126</td>\n",
       "      <td>-1.725592</td>\n",
       "      <td>-3.456575</td>\n",
       "      <td>0.516500</td>\n",
       "      <td>1.975102</td>\n",
       "      <td>-0.368195</td>\n",
       "    </tr>\n",
       "    <tr>\n",
       "      <th>...</th>\n",
       "      <td>...</td>\n",
       "      <td>...</td>\n",
       "      <td>...</td>\n",
       "      <td>...</td>\n",
       "      <td>...</td>\n",
       "      <td>...</td>\n",
       "      <td>...</td>\n",
       "      <td>...</td>\n",
       "      <td>...</td>\n",
       "      <td>...</td>\n",
       "      <td>...</td>\n",
       "      <td>...</td>\n",
       "      <td>...</td>\n",
       "      <td>...</td>\n",
       "      <td>...</td>\n",
       "      <td>...</td>\n",
       "      <td>...</td>\n",
       "      <td>...</td>\n",
       "    </tr>\n",
       "    <tr>\n",
       "      <th>145</th>\n",
       "      <td>982584</td>\n",
       "      <td>9.505179</td>\n",
       "      <td>-4.517695</td>\n",
       "      <td>3.301311</td>\n",
       "      <td>2.597417</td>\n",
       "      <td>-0.849870</td>\n",
       "      <td>3.406245</td>\n",
       "      <td>-4.308138</td>\n",
       "      <td>-0.160126</td>\n",
       "      <td>1.754996</td>\n",
       "      <td>3.995902</td>\n",
       "      <td>1.721263</td>\n",
       "      <td>0.627354</td>\n",
       "      <td>-0.056182</td>\n",
       "      <td>-0.746072</td>\n",
       "      <td>-7.018670</td>\n",
       "      <td>0.823525</td>\n",
       "      <td>-0.436527</td>\n",
       "    </tr>\n",
       "    <tr>\n",
       "      <th>146</th>\n",
       "      <td>982584</td>\n",
       "      <td>9.870377</td>\n",
       "      <td>-4.516920</td>\n",
       "      <td>3.368592</td>\n",
       "      <td>2.586117</td>\n",
       "      <td>-0.864782</td>\n",
       "      <td>3.306133</td>\n",
       "      <td>-4.289502</td>\n",
       "      <td>-0.185815</td>\n",
       "      <td>1.824074</td>\n",
       "      <td>4.143573</td>\n",
       "      <td>1.668083</td>\n",
       "      <td>0.559593</td>\n",
       "      <td>0.003815</td>\n",
       "      <td>-0.633698</td>\n",
       "      <td>-6.977926</td>\n",
       "      <td>0.924308</td>\n",
       "      <td>-0.299941</td>\n",
       "    </tr>\n",
       "    <tr>\n",
       "      <th>147</th>\n",
       "      <td>982584</td>\n",
       "      <td>9.844962</td>\n",
       "      <td>-4.517695</td>\n",
       "      <td>3.301311</td>\n",
       "      <td>2.597417</td>\n",
       "      <td>-0.849870</td>\n",
       "      <td>3.406245</td>\n",
       "      <td>-4.308138</td>\n",
       "      <td>-0.160126</td>\n",
       "      <td>1.754996</td>\n",
       "      <td>3.995902</td>\n",
       "      <td>1.721263</td>\n",
       "      <td>0.627354</td>\n",
       "      <td>-0.056182</td>\n",
       "      <td>-0.746072</td>\n",
       "      <td>-7.018670</td>\n",
       "      <td>0.823525</td>\n",
       "      <td>-0.436527</td>\n",
       "    </tr>\n",
       "    <tr>\n",
       "      <th>148</th>\n",
       "      <td>994949</td>\n",
       "      <td>9.887114</td>\n",
       "      <td>0.814950</td>\n",
       "      <td>-8.768116</td>\n",
       "      <td>-5.441404</td>\n",
       "      <td>1.953549</td>\n",
       "      <td>2.858317</td>\n",
       "      <td>-1.918879</td>\n",
       "      <td>0.632079</td>\n",
       "      <td>-0.919422</td>\n",
       "      <td>-0.602728</td>\n",
       "      <td>-0.498022</td>\n",
       "      <td>0.280160</td>\n",
       "      <td>0.044157</td>\n",
       "      <td>-0.737151</td>\n",
       "      <td>0.804534</td>\n",
       "      <td>-1.714743</td>\n",
       "      <td>-1.505984</td>\n",
       "    </tr>\n",
       "    <tr>\n",
       "      <th>149</th>\n",
       "      <td>994949</td>\n",
       "      <td>10.111328</td>\n",
       "      <td>0.814950</td>\n",
       "      <td>-8.768116</td>\n",
       "      <td>-5.441404</td>\n",
       "      <td>1.953549</td>\n",
       "      <td>2.858317</td>\n",
       "      <td>-1.918879</td>\n",
       "      <td>0.632079</td>\n",
       "      <td>-0.919422</td>\n",
       "      <td>-0.602728</td>\n",
       "      <td>-0.498022</td>\n",
       "      <td>0.280160</td>\n",
       "      <td>0.044157</td>\n",
       "      <td>-0.737151</td>\n",
       "      <td>0.804534</td>\n",
       "      <td>-1.714743</td>\n",
       "      <td>-1.505984</td>\n",
       "    </tr>\n",
       "  </tbody>\n",
       "</table>\n",
       "<p>150 rows × 18 columns</p>\n",
       "</div>"
      ],
      "text/plain": [
       "       uuid  sales_value         0         1         2         3         4  \\\n",
       "0    112777     8.201381 -5.463816  4.582212  4.129162 -2.150395  5.004710   \n",
       "1    112777     5.497663 -5.464591  4.514931  4.140461 -2.135483  5.104822   \n",
       "2    112777     8.525868 -5.463816  4.582212  4.129162 -2.150395  5.004710   \n",
       "3    112777     5.531329 -5.464591  4.514931  4.140461 -2.135483  5.104822   \n",
       "4    157886     8.775864  1.936468  3.468438 -0.561784 -1.257701 -0.886917   \n",
       "..      ...          ...       ...       ...       ...       ...       ...   \n",
       "145  982584     9.505179 -4.517695  3.301311  2.597417 -0.849870  3.406245   \n",
       "146  982584     9.870377 -4.516920  3.368592  2.586117 -0.864782  3.306133   \n",
       "147  982584     9.844962 -4.517695  3.301311  2.597417 -0.849870  3.406245   \n",
       "148  994949     9.887114  0.814950 -8.768116 -5.441404  1.953549  2.858317   \n",
       "149  994949    10.111328  0.814950 -8.768116 -5.441404  1.953549  2.858317   \n",
       "\n",
       "            5         6         7          8         9        10        11  \\\n",
       "0   -6.082302  0.178848  2.483373  10.108920  4.764509  1.067892  0.240801   \n",
       "1   -6.100938  0.204537  2.414294   9.961249  4.817689  1.135653  0.180805   \n",
       "2   -6.082302  0.178848  2.483373  10.108920  4.764509  1.067892  0.240801   \n",
       "3   -6.100938  0.204537  2.414294   9.961249  4.817689  1.135653  0.180805   \n",
       "4    2.187202 -2.259362  2.104310   0.953861 -0.813646 -3.109126 -1.725592   \n",
       "..        ...       ...       ...        ...       ...       ...       ...   \n",
       "145 -4.308138 -0.160126  1.754996   3.995902  1.721263  0.627354 -0.056182   \n",
       "146 -4.289502 -0.185815  1.824074   4.143573  1.668083  0.559593  0.003815   \n",
       "147 -4.308138 -0.160126  1.754996   3.995902  1.721263  0.627354 -0.056182   \n",
       "148 -1.918879  0.632079 -0.919422  -0.602728 -0.498022  0.280160  0.044157   \n",
       "149 -1.918879  0.632079 -0.919422  -0.602728 -0.498022  0.280160  0.044157   \n",
       "\n",
       "           12        13        14        15  \n",
       "0    0.875479  9.265605 -1.126028  0.226161  \n",
       "1    0.763105  9.224862 -1.226811  0.089575  \n",
       "2    0.875479  9.265605 -1.126028  0.226161  \n",
       "3    0.763105  9.224862 -1.226811  0.089575  \n",
       "4   -3.456575  0.516500  1.975102 -0.368195  \n",
       "..        ...       ...       ...       ...  \n",
       "145 -0.746072 -7.018670  0.823525 -0.436527  \n",
       "146 -0.633698 -6.977926  0.924308 -0.299941  \n",
       "147 -0.746072 -7.018670  0.823525 -0.436527  \n",
       "148 -0.737151  0.804534 -1.714743 -1.505984  \n",
       "149 -0.737151  0.804534 -1.714743 -1.505984  \n",
       "\n",
       "[150 rows x 18 columns]"
      ]
     },
     "execution_count": 27,
     "metadata": {},
     "output_type": "execute_result"
    }
   ],
   "source": [
    "pca = PCA(n_components=0.9)\n",
    "reduced_X = pca.fit_transform(X)\n",
    "\n",
    "Xp90 = pd.DataFrame(reduced_X)\n",
    "con90 = pd.concat([Y, Xp90], axis=1)\n",
    "con90"
   ]
  },
  {
   "cell_type": "code",
   "execution_count": 28,
   "id": "cbae0576",
   "metadata": {},
   "outputs": [
    {
     "name": "stdout",
     "output_type": "stream",
     "text": [
      "Requirement already satisfied: plotly in c:\\users\\cheri\\anaconda3\\lib\\site-packages (5.8.0)\n",
      "Requirement already satisfied: tenacity>=6.2.0 in c:\\users\\cheri\\anaconda3\\lib\\site-packages (from plotly) (8.0.1)\n"
     ]
    },
    {
     "data": {
      "application/vnd.plotly.v1+json": {
       "config": {
        "plotlyServerURL": "https://plot.ly"
       },
       "data": [
        {
         "fillpattern": {
          "shape": ""
         },
         "hovertemplate": "# Components=%{x}<br>Explained Variance=%{y}<extra></extra>",
         "legendgroup": "",
         "line": {
          "color": "#636efa"
         },
         "marker": {
          "symbol": "circle"
         },
         "mode": "lines",
         "name": "",
         "orientation": "v",
         "showlegend": false,
         "stackgroup": "1",
         "type": "scatter",
         "x": [
          1,
          2,
          3,
          4,
          5,
          6,
          7,
          8,
          9,
          10,
          11,
          12,
          13,
          14,
          15,
          16
         ],
         "xaxis": "x",
         "y": [
          0.11449673737833897,
          0.21559919579735748,
          0.3030340727138362,
          0.38212393429142155,
          0.4561556481154776,
          0.5221714734525634,
          0.5859621992864422,
          0.6446723231704098,
          0.6933464598855833,
          0.7378883409527417,
          0.7774672091815908,
          0.8141072886818487,
          0.8416365411077807,
          0.8677398068457832,
          0.8913295490734703,
          0.9102084490271913
         ],
         "yaxis": "y"
        }
       ],
       "layout": {
        "legend": {
         "tracegroupgap": 0
        },
        "margin": {
         "t": 60
        },
        "template": {
         "data": {
          "bar": [
           {
            "error_x": {
             "color": "#2a3f5f"
            },
            "error_y": {
             "color": "#2a3f5f"
            },
            "marker": {
             "line": {
              "color": "#E5ECF6",
              "width": 0.5
             },
             "pattern": {
              "fillmode": "overlay",
              "size": 10,
              "solidity": 0.2
             }
            },
            "type": "bar"
           }
          ],
          "barpolar": [
           {
            "marker": {
             "line": {
              "color": "#E5ECF6",
              "width": 0.5
             },
             "pattern": {
              "fillmode": "overlay",
              "size": 10,
              "solidity": 0.2
             }
            },
            "type": "barpolar"
           }
          ],
          "carpet": [
           {
            "aaxis": {
             "endlinecolor": "#2a3f5f",
             "gridcolor": "white",
             "linecolor": "white",
             "minorgridcolor": "white",
             "startlinecolor": "#2a3f5f"
            },
            "baxis": {
             "endlinecolor": "#2a3f5f",
             "gridcolor": "white",
             "linecolor": "white",
             "minorgridcolor": "white",
             "startlinecolor": "#2a3f5f"
            },
            "type": "carpet"
           }
          ],
          "choropleth": [
           {
            "colorbar": {
             "outlinewidth": 0,
             "ticks": ""
            },
            "type": "choropleth"
           }
          ],
          "contour": [
           {
            "colorbar": {
             "outlinewidth": 0,
             "ticks": ""
            },
            "colorscale": [
             [
              0,
              "#0d0887"
             ],
             [
              0.1111111111111111,
              "#46039f"
             ],
             [
              0.2222222222222222,
              "#7201a8"
             ],
             [
              0.3333333333333333,
              "#9c179e"
             ],
             [
              0.4444444444444444,
              "#bd3786"
             ],
             [
              0.5555555555555556,
              "#d8576b"
             ],
             [
              0.6666666666666666,
              "#ed7953"
             ],
             [
              0.7777777777777778,
              "#fb9f3a"
             ],
             [
              0.8888888888888888,
              "#fdca26"
             ],
             [
              1,
              "#f0f921"
             ]
            ],
            "type": "contour"
           }
          ],
          "contourcarpet": [
           {
            "colorbar": {
             "outlinewidth": 0,
             "ticks": ""
            },
            "type": "contourcarpet"
           }
          ],
          "heatmap": [
           {
            "colorbar": {
             "outlinewidth": 0,
             "ticks": ""
            },
            "colorscale": [
             [
              0,
              "#0d0887"
             ],
             [
              0.1111111111111111,
              "#46039f"
             ],
             [
              0.2222222222222222,
              "#7201a8"
             ],
             [
              0.3333333333333333,
              "#9c179e"
             ],
             [
              0.4444444444444444,
              "#bd3786"
             ],
             [
              0.5555555555555556,
              "#d8576b"
             ],
             [
              0.6666666666666666,
              "#ed7953"
             ],
             [
              0.7777777777777778,
              "#fb9f3a"
             ],
             [
              0.8888888888888888,
              "#fdca26"
             ],
             [
              1,
              "#f0f921"
             ]
            ],
            "type": "heatmap"
           }
          ],
          "heatmapgl": [
           {
            "colorbar": {
             "outlinewidth": 0,
             "ticks": ""
            },
            "colorscale": [
             [
              0,
              "#0d0887"
             ],
             [
              0.1111111111111111,
              "#46039f"
             ],
             [
              0.2222222222222222,
              "#7201a8"
             ],
             [
              0.3333333333333333,
              "#9c179e"
             ],
             [
              0.4444444444444444,
              "#bd3786"
             ],
             [
              0.5555555555555556,
              "#d8576b"
             ],
             [
              0.6666666666666666,
              "#ed7953"
             ],
             [
              0.7777777777777778,
              "#fb9f3a"
             ],
             [
              0.8888888888888888,
              "#fdca26"
             ],
             [
              1,
              "#f0f921"
             ]
            ],
            "type": "heatmapgl"
           }
          ],
          "histogram": [
           {
            "marker": {
             "pattern": {
              "fillmode": "overlay",
              "size": 10,
              "solidity": 0.2
             }
            },
            "type": "histogram"
           }
          ],
          "histogram2d": [
           {
            "colorbar": {
             "outlinewidth": 0,
             "ticks": ""
            },
            "colorscale": [
             [
              0,
              "#0d0887"
             ],
             [
              0.1111111111111111,
              "#46039f"
             ],
             [
              0.2222222222222222,
              "#7201a8"
             ],
             [
              0.3333333333333333,
              "#9c179e"
             ],
             [
              0.4444444444444444,
              "#bd3786"
             ],
             [
              0.5555555555555556,
              "#d8576b"
             ],
             [
              0.6666666666666666,
              "#ed7953"
             ],
             [
              0.7777777777777778,
              "#fb9f3a"
             ],
             [
              0.8888888888888888,
              "#fdca26"
             ],
             [
              1,
              "#f0f921"
             ]
            ],
            "type": "histogram2d"
           }
          ],
          "histogram2dcontour": [
           {
            "colorbar": {
             "outlinewidth": 0,
             "ticks": ""
            },
            "colorscale": [
             [
              0,
              "#0d0887"
             ],
             [
              0.1111111111111111,
              "#46039f"
             ],
             [
              0.2222222222222222,
              "#7201a8"
             ],
             [
              0.3333333333333333,
              "#9c179e"
             ],
             [
              0.4444444444444444,
              "#bd3786"
             ],
             [
              0.5555555555555556,
              "#d8576b"
             ],
             [
              0.6666666666666666,
              "#ed7953"
             ],
             [
              0.7777777777777778,
              "#fb9f3a"
             ],
             [
              0.8888888888888888,
              "#fdca26"
             ],
             [
              1,
              "#f0f921"
             ]
            ],
            "type": "histogram2dcontour"
           }
          ],
          "mesh3d": [
           {
            "colorbar": {
             "outlinewidth": 0,
             "ticks": ""
            },
            "type": "mesh3d"
           }
          ],
          "parcoords": [
           {
            "line": {
             "colorbar": {
              "outlinewidth": 0,
              "ticks": ""
             }
            },
            "type": "parcoords"
           }
          ],
          "pie": [
           {
            "automargin": true,
            "type": "pie"
           }
          ],
          "scatter": [
           {
            "fillpattern": {
             "fillmode": "overlay",
             "size": 10,
             "solidity": 0.2
            },
            "type": "scatter"
           }
          ],
          "scatter3d": [
           {
            "line": {
             "colorbar": {
              "outlinewidth": 0,
              "ticks": ""
             }
            },
            "marker": {
             "colorbar": {
              "outlinewidth": 0,
              "ticks": ""
             }
            },
            "type": "scatter3d"
           }
          ],
          "scattercarpet": [
           {
            "marker": {
             "colorbar": {
              "outlinewidth": 0,
              "ticks": ""
             }
            },
            "type": "scattercarpet"
           }
          ],
          "scattergeo": [
           {
            "marker": {
             "colorbar": {
              "outlinewidth": 0,
              "ticks": ""
             }
            },
            "type": "scattergeo"
           }
          ],
          "scattergl": [
           {
            "marker": {
             "colorbar": {
              "outlinewidth": 0,
              "ticks": ""
             }
            },
            "type": "scattergl"
           }
          ],
          "scattermapbox": [
           {
            "marker": {
             "colorbar": {
              "outlinewidth": 0,
              "ticks": ""
             }
            },
            "type": "scattermapbox"
           }
          ],
          "scatterpolar": [
           {
            "marker": {
             "colorbar": {
              "outlinewidth": 0,
              "ticks": ""
             }
            },
            "type": "scatterpolar"
           }
          ],
          "scatterpolargl": [
           {
            "marker": {
             "colorbar": {
              "outlinewidth": 0,
              "ticks": ""
             }
            },
            "type": "scatterpolargl"
           }
          ],
          "scatterternary": [
           {
            "marker": {
             "colorbar": {
              "outlinewidth": 0,
              "ticks": ""
             }
            },
            "type": "scatterternary"
           }
          ],
          "surface": [
           {
            "colorbar": {
             "outlinewidth": 0,
             "ticks": ""
            },
            "colorscale": [
             [
              0,
              "#0d0887"
             ],
             [
              0.1111111111111111,
              "#46039f"
             ],
             [
              0.2222222222222222,
              "#7201a8"
             ],
             [
              0.3333333333333333,
              "#9c179e"
             ],
             [
              0.4444444444444444,
              "#bd3786"
             ],
             [
              0.5555555555555556,
              "#d8576b"
             ],
             [
              0.6666666666666666,
              "#ed7953"
             ],
             [
              0.7777777777777778,
              "#fb9f3a"
             ],
             [
              0.8888888888888888,
              "#fdca26"
             ],
             [
              1,
              "#f0f921"
             ]
            ],
            "type": "surface"
           }
          ],
          "table": [
           {
            "cells": {
             "fill": {
              "color": "#EBF0F8"
             },
             "line": {
              "color": "white"
             }
            },
            "header": {
             "fill": {
              "color": "#C8D4E3"
             },
             "line": {
              "color": "white"
             }
            },
            "type": "table"
           }
          ]
         },
         "layout": {
          "annotationdefaults": {
           "arrowcolor": "#2a3f5f",
           "arrowhead": 0,
           "arrowwidth": 1
          },
          "autotypenumbers": "strict",
          "coloraxis": {
           "colorbar": {
            "outlinewidth": 0,
            "ticks": ""
           }
          },
          "colorscale": {
           "diverging": [
            [
             0,
             "#8e0152"
            ],
            [
             0.1,
             "#c51b7d"
            ],
            [
             0.2,
             "#de77ae"
            ],
            [
             0.3,
             "#f1b6da"
            ],
            [
             0.4,
             "#fde0ef"
            ],
            [
             0.5,
             "#f7f7f7"
            ],
            [
             0.6,
             "#e6f5d0"
            ],
            [
             0.7,
             "#b8e186"
            ],
            [
             0.8,
             "#7fbc41"
            ],
            [
             0.9,
             "#4d9221"
            ],
            [
             1,
             "#276419"
            ]
           ],
           "sequential": [
            [
             0,
             "#0d0887"
            ],
            [
             0.1111111111111111,
             "#46039f"
            ],
            [
             0.2222222222222222,
             "#7201a8"
            ],
            [
             0.3333333333333333,
             "#9c179e"
            ],
            [
             0.4444444444444444,
             "#bd3786"
            ],
            [
             0.5555555555555556,
             "#d8576b"
            ],
            [
             0.6666666666666666,
             "#ed7953"
            ],
            [
             0.7777777777777778,
             "#fb9f3a"
            ],
            [
             0.8888888888888888,
             "#fdca26"
            ],
            [
             1,
             "#f0f921"
            ]
           ],
           "sequentialminus": [
            [
             0,
             "#0d0887"
            ],
            [
             0.1111111111111111,
             "#46039f"
            ],
            [
             0.2222222222222222,
             "#7201a8"
            ],
            [
             0.3333333333333333,
             "#9c179e"
            ],
            [
             0.4444444444444444,
             "#bd3786"
            ],
            [
             0.5555555555555556,
             "#d8576b"
            ],
            [
             0.6666666666666666,
             "#ed7953"
            ],
            [
             0.7777777777777778,
             "#fb9f3a"
            ],
            [
             0.8888888888888888,
             "#fdca26"
            ],
            [
             1,
             "#f0f921"
            ]
           ]
          },
          "colorway": [
           "#636efa",
           "#EF553B",
           "#00cc96",
           "#ab63fa",
           "#FFA15A",
           "#19d3f3",
           "#FF6692",
           "#B6E880",
           "#FF97FF",
           "#FECB52"
          ],
          "font": {
           "color": "#2a3f5f"
          },
          "geo": {
           "bgcolor": "white",
           "lakecolor": "white",
           "landcolor": "#E5ECF6",
           "showlakes": true,
           "showland": true,
           "subunitcolor": "white"
          },
          "hoverlabel": {
           "align": "left"
          },
          "hovermode": "closest",
          "mapbox": {
           "style": "light"
          },
          "paper_bgcolor": "white",
          "plot_bgcolor": "#E5ECF6",
          "polar": {
           "angularaxis": {
            "gridcolor": "white",
            "linecolor": "white",
            "ticks": ""
           },
           "bgcolor": "#E5ECF6",
           "radialaxis": {
            "gridcolor": "white",
            "linecolor": "white",
            "ticks": ""
           }
          },
          "scene": {
           "xaxis": {
            "backgroundcolor": "#E5ECF6",
            "gridcolor": "white",
            "gridwidth": 2,
            "linecolor": "white",
            "showbackground": true,
            "ticks": "",
            "zerolinecolor": "white"
           },
           "yaxis": {
            "backgroundcolor": "#E5ECF6",
            "gridcolor": "white",
            "gridwidth": 2,
            "linecolor": "white",
            "showbackground": true,
            "ticks": "",
            "zerolinecolor": "white"
           },
           "zaxis": {
            "backgroundcolor": "#E5ECF6",
            "gridcolor": "white",
            "gridwidth": 2,
            "linecolor": "white",
            "showbackground": true,
            "ticks": "",
            "zerolinecolor": "white"
           }
          },
          "shapedefaults": {
           "line": {
            "color": "#2a3f5f"
           }
          },
          "ternary": {
           "aaxis": {
            "gridcolor": "white",
            "linecolor": "white",
            "ticks": ""
           },
           "baxis": {
            "gridcolor": "white",
            "linecolor": "white",
            "ticks": ""
           },
           "bgcolor": "#E5ECF6",
           "caxis": {
            "gridcolor": "white",
            "linecolor": "white",
            "ticks": ""
           }
          },
          "title": {
           "x": 0.05
          },
          "xaxis": {
           "automargin": true,
           "gridcolor": "white",
           "linecolor": "white",
           "ticks": "",
           "title": {
            "standoff": 15
           },
           "zerolinecolor": "white",
           "zerolinewidth": 2
          },
          "yaxis": {
           "automargin": true,
           "gridcolor": "white",
           "linecolor": "white",
           "ticks": "",
           "title": {
            "standoff": 15
           },
           "zerolinecolor": "white",
           "zerolinewidth": 2
          }
         }
        },
        "xaxis": {
         "anchor": "y",
         "domain": [
          0,
          1
         ],
         "title": {
          "text": "# Components"
         }
        },
        "yaxis": {
         "anchor": "x",
         "domain": [
          0,
          1
         ],
         "title": {
          "text": "Explained Variance"
         }
        }
       }
      },
      "text/html": [
       "<div>                            <div id=\"672c22ce-95e5-4a9a-bdf9-a8e7ffd6babe\" class=\"plotly-graph-div\" style=\"height:525px; width:100%;\"></div>            <script type=\"text/javascript\">                require([\"plotly\"], function(Plotly) {                    window.PLOTLYENV=window.PLOTLYENV || {};                                    if (document.getElementById(\"672c22ce-95e5-4a9a-bdf9-a8e7ffd6babe\")) {                    Plotly.newPlot(                        \"672c22ce-95e5-4a9a-bdf9-a8e7ffd6babe\",                        [{\"fillpattern\":{\"shape\":\"\"},\"hovertemplate\":\"# Components=%{x}<br>Explained Variance=%{y}<extra></extra>\",\"legendgroup\":\"\",\"line\":{\"color\":\"#636efa\"},\"marker\":{\"symbol\":\"circle\"},\"mode\":\"lines\",\"name\":\"\",\"orientation\":\"v\",\"showlegend\":false,\"stackgroup\":\"1\",\"x\":[1,2,3,4,5,6,7,8,9,10,11,12,13,14,15,16],\"xaxis\":\"x\",\"y\":[0.11449673737833897,0.21559919579735748,0.3030340727138362,0.38212393429142155,0.4561556481154776,0.5221714734525634,0.5859621992864422,0.6446723231704098,0.6933464598855833,0.7378883409527417,0.7774672091815908,0.8141072886818487,0.8416365411077807,0.8677398068457832,0.8913295490734703,0.9102084490271913],\"yaxis\":\"y\",\"type\":\"scatter\"}],                        {\"template\":{\"data\":{\"histogram2dcontour\":[{\"type\":\"histogram2dcontour\",\"colorbar\":{\"outlinewidth\":0,\"ticks\":\"\"},\"colorscale\":[[0.0,\"#0d0887\"],[0.1111111111111111,\"#46039f\"],[0.2222222222222222,\"#7201a8\"],[0.3333333333333333,\"#9c179e\"],[0.4444444444444444,\"#bd3786\"],[0.5555555555555556,\"#d8576b\"],[0.6666666666666666,\"#ed7953\"],[0.7777777777777778,\"#fb9f3a\"],[0.8888888888888888,\"#fdca26\"],[1.0,\"#f0f921\"]]}],\"choropleth\":[{\"type\":\"choropleth\",\"colorbar\":{\"outlinewidth\":0,\"ticks\":\"\"}}],\"histogram2d\":[{\"type\":\"histogram2d\",\"colorbar\":{\"outlinewidth\":0,\"ticks\":\"\"},\"colorscale\":[[0.0,\"#0d0887\"],[0.1111111111111111,\"#46039f\"],[0.2222222222222222,\"#7201a8\"],[0.3333333333333333,\"#9c179e\"],[0.4444444444444444,\"#bd3786\"],[0.5555555555555556,\"#d8576b\"],[0.6666666666666666,\"#ed7953\"],[0.7777777777777778,\"#fb9f3a\"],[0.8888888888888888,\"#fdca26\"],[1.0,\"#f0f921\"]]}],\"heatmap\":[{\"type\":\"heatmap\",\"colorbar\":{\"outlinewidth\":0,\"ticks\":\"\"},\"colorscale\":[[0.0,\"#0d0887\"],[0.1111111111111111,\"#46039f\"],[0.2222222222222222,\"#7201a8\"],[0.3333333333333333,\"#9c179e\"],[0.4444444444444444,\"#bd3786\"],[0.5555555555555556,\"#d8576b\"],[0.6666666666666666,\"#ed7953\"],[0.7777777777777778,\"#fb9f3a\"],[0.8888888888888888,\"#fdca26\"],[1.0,\"#f0f921\"]]}],\"heatmapgl\":[{\"type\":\"heatmapgl\",\"colorbar\":{\"outlinewidth\":0,\"ticks\":\"\"},\"colorscale\":[[0.0,\"#0d0887\"],[0.1111111111111111,\"#46039f\"],[0.2222222222222222,\"#7201a8\"],[0.3333333333333333,\"#9c179e\"],[0.4444444444444444,\"#bd3786\"],[0.5555555555555556,\"#d8576b\"],[0.6666666666666666,\"#ed7953\"],[0.7777777777777778,\"#fb9f3a\"],[0.8888888888888888,\"#fdca26\"],[1.0,\"#f0f921\"]]}],\"contourcarpet\":[{\"type\":\"contourcarpet\",\"colorbar\":{\"outlinewidth\":0,\"ticks\":\"\"}}],\"contour\":[{\"type\":\"contour\",\"colorbar\":{\"outlinewidth\":0,\"ticks\":\"\"},\"colorscale\":[[0.0,\"#0d0887\"],[0.1111111111111111,\"#46039f\"],[0.2222222222222222,\"#7201a8\"],[0.3333333333333333,\"#9c179e\"],[0.4444444444444444,\"#bd3786\"],[0.5555555555555556,\"#d8576b\"],[0.6666666666666666,\"#ed7953\"],[0.7777777777777778,\"#fb9f3a\"],[0.8888888888888888,\"#fdca26\"],[1.0,\"#f0f921\"]]}],\"surface\":[{\"type\":\"surface\",\"colorbar\":{\"outlinewidth\":0,\"ticks\":\"\"},\"colorscale\":[[0.0,\"#0d0887\"],[0.1111111111111111,\"#46039f\"],[0.2222222222222222,\"#7201a8\"],[0.3333333333333333,\"#9c179e\"],[0.4444444444444444,\"#bd3786\"],[0.5555555555555556,\"#d8576b\"],[0.6666666666666666,\"#ed7953\"],[0.7777777777777778,\"#fb9f3a\"],[0.8888888888888888,\"#fdca26\"],[1.0,\"#f0f921\"]]}],\"mesh3d\":[{\"type\":\"mesh3d\",\"colorbar\":{\"outlinewidth\":0,\"ticks\":\"\"}}],\"scatter\":[{\"fillpattern\":{\"fillmode\":\"overlay\",\"size\":10,\"solidity\":0.2},\"type\":\"scatter\"}],\"parcoords\":[{\"type\":\"parcoords\",\"line\":{\"colorbar\":{\"outlinewidth\":0,\"ticks\":\"\"}}}],\"scatterpolargl\":[{\"type\":\"scatterpolargl\",\"marker\":{\"colorbar\":{\"outlinewidth\":0,\"ticks\":\"\"}}}],\"bar\":[{\"error_x\":{\"color\":\"#2a3f5f\"},\"error_y\":{\"color\":\"#2a3f5f\"},\"marker\":{\"line\":{\"color\":\"#E5ECF6\",\"width\":0.5},\"pattern\":{\"fillmode\":\"overlay\",\"size\":10,\"solidity\":0.2}},\"type\":\"bar\"}],\"scattergeo\":[{\"type\":\"scattergeo\",\"marker\":{\"colorbar\":{\"outlinewidth\":0,\"ticks\":\"\"}}}],\"scatterpolar\":[{\"type\":\"scatterpolar\",\"marker\":{\"colorbar\":{\"outlinewidth\":0,\"ticks\":\"\"}}}],\"histogram\":[{\"marker\":{\"pattern\":{\"fillmode\":\"overlay\",\"size\":10,\"solidity\":0.2}},\"type\":\"histogram\"}],\"scattergl\":[{\"type\":\"scattergl\",\"marker\":{\"colorbar\":{\"outlinewidth\":0,\"ticks\":\"\"}}}],\"scatter3d\":[{\"type\":\"scatter3d\",\"line\":{\"colorbar\":{\"outlinewidth\":0,\"ticks\":\"\"}},\"marker\":{\"colorbar\":{\"outlinewidth\":0,\"ticks\":\"\"}}}],\"scattermapbox\":[{\"type\":\"scattermapbox\",\"marker\":{\"colorbar\":{\"outlinewidth\":0,\"ticks\":\"\"}}}],\"scatterternary\":[{\"type\":\"scatterternary\",\"marker\":{\"colorbar\":{\"outlinewidth\":0,\"ticks\":\"\"}}}],\"scattercarpet\":[{\"type\":\"scattercarpet\",\"marker\":{\"colorbar\":{\"outlinewidth\":0,\"ticks\":\"\"}}}],\"carpet\":[{\"aaxis\":{\"endlinecolor\":\"#2a3f5f\",\"gridcolor\":\"white\",\"linecolor\":\"white\",\"minorgridcolor\":\"white\",\"startlinecolor\":\"#2a3f5f\"},\"baxis\":{\"endlinecolor\":\"#2a3f5f\",\"gridcolor\":\"white\",\"linecolor\":\"white\",\"minorgridcolor\":\"white\",\"startlinecolor\":\"#2a3f5f\"},\"type\":\"carpet\"}],\"table\":[{\"cells\":{\"fill\":{\"color\":\"#EBF0F8\"},\"line\":{\"color\":\"white\"}},\"header\":{\"fill\":{\"color\":\"#C8D4E3\"},\"line\":{\"color\":\"white\"}},\"type\":\"table\"}],\"barpolar\":[{\"marker\":{\"line\":{\"color\":\"#E5ECF6\",\"width\":0.5},\"pattern\":{\"fillmode\":\"overlay\",\"size\":10,\"solidity\":0.2}},\"type\":\"barpolar\"}],\"pie\":[{\"automargin\":true,\"type\":\"pie\"}]},\"layout\":{\"autotypenumbers\":\"strict\",\"colorway\":[\"#636efa\",\"#EF553B\",\"#00cc96\",\"#ab63fa\",\"#FFA15A\",\"#19d3f3\",\"#FF6692\",\"#B6E880\",\"#FF97FF\",\"#FECB52\"],\"font\":{\"color\":\"#2a3f5f\"},\"hovermode\":\"closest\",\"hoverlabel\":{\"align\":\"left\"},\"paper_bgcolor\":\"white\",\"plot_bgcolor\":\"#E5ECF6\",\"polar\":{\"bgcolor\":\"#E5ECF6\",\"angularaxis\":{\"gridcolor\":\"white\",\"linecolor\":\"white\",\"ticks\":\"\"},\"radialaxis\":{\"gridcolor\":\"white\",\"linecolor\":\"white\",\"ticks\":\"\"}},\"ternary\":{\"bgcolor\":\"#E5ECF6\",\"aaxis\":{\"gridcolor\":\"white\",\"linecolor\":\"white\",\"ticks\":\"\"},\"baxis\":{\"gridcolor\":\"white\",\"linecolor\":\"white\",\"ticks\":\"\"},\"caxis\":{\"gridcolor\":\"white\",\"linecolor\":\"white\",\"ticks\":\"\"}},\"coloraxis\":{\"colorbar\":{\"outlinewidth\":0,\"ticks\":\"\"}},\"colorscale\":{\"sequential\":[[0.0,\"#0d0887\"],[0.1111111111111111,\"#46039f\"],[0.2222222222222222,\"#7201a8\"],[0.3333333333333333,\"#9c179e\"],[0.4444444444444444,\"#bd3786\"],[0.5555555555555556,\"#d8576b\"],[0.6666666666666666,\"#ed7953\"],[0.7777777777777778,\"#fb9f3a\"],[0.8888888888888888,\"#fdca26\"],[1.0,\"#f0f921\"]],\"sequentialminus\":[[0.0,\"#0d0887\"],[0.1111111111111111,\"#46039f\"],[0.2222222222222222,\"#7201a8\"],[0.3333333333333333,\"#9c179e\"],[0.4444444444444444,\"#bd3786\"],[0.5555555555555556,\"#d8576b\"],[0.6666666666666666,\"#ed7953\"],[0.7777777777777778,\"#fb9f3a\"],[0.8888888888888888,\"#fdca26\"],[1.0,\"#f0f921\"]],\"diverging\":[[0,\"#8e0152\"],[0.1,\"#c51b7d\"],[0.2,\"#de77ae\"],[0.3,\"#f1b6da\"],[0.4,\"#fde0ef\"],[0.5,\"#f7f7f7\"],[0.6,\"#e6f5d0\"],[0.7,\"#b8e186\"],[0.8,\"#7fbc41\"],[0.9,\"#4d9221\"],[1,\"#276419\"]]},\"xaxis\":{\"gridcolor\":\"white\",\"linecolor\":\"white\",\"ticks\":\"\",\"title\":{\"standoff\":15},\"zerolinecolor\":\"white\",\"automargin\":true,\"zerolinewidth\":2},\"yaxis\":{\"gridcolor\":\"white\",\"linecolor\":\"white\",\"ticks\":\"\",\"title\":{\"standoff\":15},\"zerolinecolor\":\"white\",\"automargin\":true,\"zerolinewidth\":2},\"scene\":{\"xaxis\":{\"backgroundcolor\":\"#E5ECF6\",\"gridcolor\":\"white\",\"linecolor\":\"white\",\"showbackground\":true,\"ticks\":\"\",\"zerolinecolor\":\"white\",\"gridwidth\":2},\"yaxis\":{\"backgroundcolor\":\"#E5ECF6\",\"gridcolor\":\"white\",\"linecolor\":\"white\",\"showbackground\":true,\"ticks\":\"\",\"zerolinecolor\":\"white\",\"gridwidth\":2},\"zaxis\":{\"backgroundcolor\":\"#E5ECF6\",\"gridcolor\":\"white\",\"linecolor\":\"white\",\"showbackground\":true,\"ticks\":\"\",\"zerolinecolor\":\"white\",\"gridwidth\":2}},\"shapedefaults\":{\"line\":{\"color\":\"#2a3f5f\"}},\"annotationdefaults\":{\"arrowcolor\":\"#2a3f5f\",\"arrowhead\":0,\"arrowwidth\":1},\"geo\":{\"bgcolor\":\"white\",\"landcolor\":\"#E5ECF6\",\"subunitcolor\":\"white\",\"showland\":true,\"showlakes\":true,\"lakecolor\":\"white\"},\"title\":{\"x\":0.05},\"mapbox\":{\"style\":\"light\"}}},\"xaxis\":{\"anchor\":\"y\",\"domain\":[0.0,1.0],\"title\":{\"text\":\"# Components\"}},\"yaxis\":{\"anchor\":\"x\",\"domain\":[0.0,1.0],\"title\":{\"text\":\"Explained Variance\"}},\"legend\":{\"tracegroupgap\":0},\"margin\":{\"t\":60}},                        {\"responsive\": true}                    ).then(function(){\n",
       "                            \n",
       "var gd = document.getElementById('672c22ce-95e5-4a9a-bdf9-a8e7ffd6babe');\n",
       "var x = new MutationObserver(function (mutations, observer) {{\n",
       "        var display = window.getComputedStyle(gd).display;\n",
       "        if (!display || display === 'none') {{\n",
       "            console.log([gd, 'removed!']);\n",
       "            Plotly.purge(gd);\n",
       "            observer.disconnect();\n",
       "        }}\n",
       "}});\n",
       "\n",
       "// Listen for the removal of the full notebook cells\n",
       "var notebookContainer = gd.closest('#notebook-container');\n",
       "if (notebookContainer) {{\n",
       "    x.observe(notebookContainer, {childList: true});\n",
       "}}\n",
       "\n",
       "// Listen for the clearing of the current output cell\n",
       "var outputEl = gd.closest('.output');\n",
       "if (outputEl) {{\n",
       "    x.observe(outputEl, {childList: true});\n",
       "}}\n",
       "\n",
       "                        })                };                });            </script>        </div>"
      ]
     },
     "metadata": {},
     "output_type": "display_data"
    }
   ],
   "source": [
    "!pip install plotly\n",
    "import plotly.express as px\n",
    "\n",
    "exp_var_cumul = np.cumsum(pca.explained_variance_ratio_)\n",
    "\n",
    "px.area(\n",
    "    x=range(1, exp_var_cumul.shape[0] + 1),\n",
    "    y=exp_var_cumul,\n",
    "    labels={\"x\": \"# Components\", \"y\": \"Explained Variance\"}\n",
    ")"
   ]
  },
  {
   "cell_type": "code",
   "execution_count": null,
   "id": "05051579",
   "metadata": {},
   "outputs": [],
   "source": []
  }
 ],
 "metadata": {
  "kernelspec": {
   "display_name": "Python 3 (ipykernel)",
   "language": "python",
   "name": "python3"
  },
  "language_info": {
   "codemirror_mode": {
    "name": "ipython",
    "version": 3
   },
   "file_extension": ".py",
   "mimetype": "text/x-python",
   "name": "python",
   "nbconvert_exporter": "python",
   "pygments_lexer": "ipython3",
   "version": "3.9.7"
  }
 },
 "nbformat": 4,
 "nbformat_minor": 5
}
